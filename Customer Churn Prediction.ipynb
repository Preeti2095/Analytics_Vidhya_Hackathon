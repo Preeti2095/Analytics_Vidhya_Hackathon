{
 "cells": [
  {
   "cell_type": "markdown",
   "metadata": {},
   "source": [
    "* Variable: Description\n",
    "\n",
    "- ID: Unique Identifier of a row\n",
    "- Age: Age of the customer\n",
    "- Gender: Gender of the customer (Male and Female)\n",
    "- Income: Yearly income of the customer\n",
    "- Balance: Average quarterly balance of the customer\n",
    "- Vintage: No. of years the customer is associated with bank\n",
    "- Transaction_Status: Whether the customer has done any transaction in the past 3 months or not\n",
    "- Product_Holdings: No. of product holdings with the bank\n",
    "- Credit_Card: Whether the customer has a credit card or not\n",
    "- Credit_Category: Category of a customer based on the credit score\n",
    "- Is_Churn: Whether the customer will churn in next 6 months or not"
   ]
  },
  {
   "cell_type": "markdown",
   "metadata": {},
   "source": [
    "is_churn_yes --> 1\n",
    "is_churn_no --> 0"
   ]
  },
  {
   "cell_type": "code",
   "execution_count": 1,
   "metadata": {},
   "outputs": [],
   "source": [
    "import pandas as pd\n",
    "import numpy as np\n",
    "import matplotlib.pyplot as plt\n",
    "import seaborn as sns"
   ]
  },
  {
   "cell_type": "code",
   "execution_count": 2,
   "metadata": {},
   "outputs": [],
   "source": [
    "df = pd.read_csv(\"train_PDjVQMB.csv\")"
   ]
  },
  {
   "cell_type": "code",
   "execution_count": 3,
   "metadata": {},
   "outputs": [
    {
     "data": {
      "text/html": [
       "<div>\n",
       "<style scoped>\n",
       "    .dataframe tbody tr th:only-of-type {\n",
       "        vertical-align: middle;\n",
       "    }\n",
       "\n",
       "    .dataframe tbody tr th {\n",
       "        vertical-align: top;\n",
       "    }\n",
       "\n",
       "    .dataframe thead th {\n",
       "        text-align: right;\n",
       "    }\n",
       "</style>\n",
       "<table border=\"1\" class=\"dataframe\">\n",
       "  <thead>\n",
       "    <tr style=\"text-align: right;\">\n",
       "      <th></th>\n",
       "      <th>ID</th>\n",
       "      <th>Age</th>\n",
       "      <th>Gender</th>\n",
       "      <th>Income</th>\n",
       "      <th>Balance</th>\n",
       "      <th>Vintage</th>\n",
       "      <th>Transaction_Status</th>\n",
       "      <th>Product_Holdings</th>\n",
       "      <th>Credit_Card</th>\n",
       "      <th>Credit_Category</th>\n",
       "      <th>Is_Churn</th>\n",
       "    </tr>\n",
       "  </thead>\n",
       "  <tbody>\n",
       "    <tr>\n",
       "      <th>0</th>\n",
       "      <td>84e2fcc9</td>\n",
       "      <td>36</td>\n",
       "      <td>Female</td>\n",
       "      <td>5L - 10L</td>\n",
       "      <td>563266.44</td>\n",
       "      <td>4</td>\n",
       "      <td>0</td>\n",
       "      <td>1</td>\n",
       "      <td>0</td>\n",
       "      <td>Average</td>\n",
       "      <td>1</td>\n",
       "    </tr>\n",
       "    <tr>\n",
       "      <th>1</th>\n",
       "      <td>57fea15e</td>\n",
       "      <td>53</td>\n",
       "      <td>Female</td>\n",
       "      <td>Less than 5L</td>\n",
       "      <td>875572.11</td>\n",
       "      <td>2</td>\n",
       "      <td>1</td>\n",
       "      <td>1</td>\n",
       "      <td>1</td>\n",
       "      <td>Poor</td>\n",
       "      <td>0</td>\n",
       "    </tr>\n",
       "    <tr>\n",
       "      <th>2</th>\n",
       "      <td>8df34ef3</td>\n",
       "      <td>35</td>\n",
       "      <td>Female</td>\n",
       "      <td>More than 15L</td>\n",
       "      <td>701607.06</td>\n",
       "      <td>2</td>\n",
       "      <td>1</td>\n",
       "      <td>2</td>\n",
       "      <td>0</td>\n",
       "      <td>Poor</td>\n",
       "      <td>0</td>\n",
       "    </tr>\n",
       "    <tr>\n",
       "      <th>3</th>\n",
       "      <td>c5c0788b</td>\n",
       "      <td>43</td>\n",
       "      <td>Female</td>\n",
       "      <td>More than 15L</td>\n",
       "      <td>1393922.16</td>\n",
       "      <td>0</td>\n",
       "      <td>1</td>\n",
       "      <td>2</td>\n",
       "      <td>1</td>\n",
       "      <td>Poor</td>\n",
       "      <td>1</td>\n",
       "    </tr>\n",
       "    <tr>\n",
       "      <th>4</th>\n",
       "      <td>951d69c4</td>\n",
       "      <td>39</td>\n",
       "      <td>Female</td>\n",
       "      <td>More than 15L</td>\n",
       "      <td>893146.23</td>\n",
       "      <td>1</td>\n",
       "      <td>1</td>\n",
       "      <td>1</td>\n",
       "      <td>1</td>\n",
       "      <td>Good</td>\n",
       "      <td>1</td>\n",
       "    </tr>\n",
       "  </tbody>\n",
       "</table>\n",
       "</div>"
      ],
      "text/plain": [
       "         ID  Age  Gender         Income     Balance  Vintage  \\\n",
       "0  84e2fcc9   36  Female       5L - 10L   563266.44        4   \n",
       "1  57fea15e   53  Female   Less than 5L   875572.11        2   \n",
       "2  8df34ef3   35  Female  More than 15L   701607.06        2   \n",
       "3  c5c0788b   43  Female  More than 15L  1393922.16        0   \n",
       "4  951d69c4   39  Female  More than 15L   893146.23        1   \n",
       "\n",
       "   Transaction_Status Product_Holdings  Credit_Card Credit_Category  Is_Churn  \n",
       "0                   0                1            0         Average         1  \n",
       "1                   1                1            1            Poor         0  \n",
       "2                   1                2            0            Poor         0  \n",
       "3                   1                2            1            Poor         1  \n",
       "4                   1                1            1            Good         1  "
      ]
     },
     "execution_count": 3,
     "metadata": {},
     "output_type": "execute_result"
    }
   ],
   "source": [
    "df.head()"
   ]
  },
  {
   "cell_type": "markdown",
   "metadata": {},
   "source": [
    "### Correlation Matrix"
   ]
  },
  {
   "cell_type": "code",
   "execution_count": 4,
   "metadata": {},
   "outputs": [
    {
     "data": {
      "text/plain": [
       "<AxesSubplot:>"
      ]
     },
     "execution_count": 4,
     "metadata": {},
     "output_type": "execute_result"
    },
    {
     "data": {
      "image/png": "[encoded data removed]",
      "text/plain": [
       "<Figure size 720x360 with 2 Axes>"
      ]
     },
     "metadata": {
      "needs_background": "light"
     },
     "output_type": "display_data"
    }
   ],
   "source": [
    "import seaborn as sns\n",
    "plt.figure(figsize=(10,5))\n",
    "sns.heatmap(df.corr(), annot=True)"
   ]
  },
  {
   "cell_type": "markdown",
   "metadata": {},
   "source": [
    "- Observation\n",
    "- Age and Balance are showing the positive correlation with the target column, we will further investigate these two variables clearly\n",
    "- variables are not showing much correlation with each other also"
   ]
  },
  {
   "cell_type": "code",
   "execution_count": 5,
   "metadata": {},
   "outputs": [
    {
     "data": {
      "text/plain": [
       "(6650, 11)"
      ]
     },
     "execution_count": 5,
     "metadata": {},
     "output_type": "execute_result"
    }
   ],
   "source": [
    "#let's check the shape of the dataset\n",
    "df.shape"
   ]
  },
  {
   "cell_type": "code",
   "execution_count": 6,
   "metadata": {},
   "outputs": [
    {
     "name": "stdout",
     "output_type": "stream",
     "text": [
      "<class 'pandas.core.frame.DataFrame'>\n",
      "RangeIndex: 6650 entries, 0 to 6649\n",
      "Data columns (total 11 columns):\n",
      " #   Column              Non-Null Count  Dtype  \n",
      "---  ------              --------------  -----  \n",
      " 0   ID                  6650 non-null   object \n",
      " 1   Age                 6650 non-null   int64  \n",
      " 2   Gender              6650 non-null   object \n",
      " 3   Income              6650 non-null   object \n",
      " 4   Balance             6650 non-null   float64\n",
      " 5   Vintage             6650 non-null   int64  \n",
      " 6   Transaction_Status  6650 non-null   int64  \n",
      " 7   Product_Holdings    6650 non-null   object \n",
      " 8   Credit_Card         6650 non-null   int64  \n",
      " 9   Credit_Category     6650 non-null   object \n",
      " 10  Is_Churn            6650 non-null   int64  \n",
      "dtypes: float64(1), int64(5), object(5)\n",
      "memory usage: 571.6+ KB\n"
     ]
    }
   ],
   "source": [
    "#getting the datatype of the columns\n",
    "df.info()"
   ]
  },
  {
   "cell_type": "code",
   "execution_count": 7,
   "metadata": {},
   "outputs": [
    {
     "data": {
      "text/plain": [
       "ID                    0\n",
       "Age                   0\n",
       "Gender                0\n",
       "Income                0\n",
       "Balance               0\n",
       "Vintage               0\n",
       "Transaction_Status    0\n",
       "Product_Holdings      0\n",
       "Credit_Card           0\n",
       "Credit_Category       0\n",
       "Is_Churn              0\n",
       "dtype: int64"
      ]
     },
     "execution_count": 7,
     "metadata": {},
     "output_type": "execute_result"
    }
   ],
   "source": [
    "#checking for any null values\n",
    "df.isnull().sum()"
   ]
  },
  {
   "cell_type": "markdown",
   "metadata": {},
   "source": [
    "- there is no missing values in our dataset."
   ]
  },
  {
   "cell_type": "code",
   "execution_count": 8,
   "metadata": {},
   "outputs": [],
   "source": [
    "#this variable is used to append the selected variable for model building\n",
    "final_feature = []"
   ]
  },
  {
   "cell_type": "code",
   "execution_count": 9,
   "metadata": {},
   "outputs": [
    {
     "data": {
      "text/plain": [
       "21"
      ]
     },
     "execution_count": 9,
     "metadata": {},
     "output_type": "execute_result"
    }
   ],
   "source": [
    "min(df['Age'])"
   ]
  },
  {
   "cell_type": "code",
   "execution_count": 10,
   "metadata": {},
   "outputs": [
    {
     "data": {
      "text/plain": [
       "72"
      ]
     },
     "execution_count": 10,
     "metadata": {},
     "output_type": "execute_result"
    }
   ],
   "source": [
    "max(df['Age'])"
   ]
  },
  {
   "cell_type": "markdown",
   "metadata": {},
   "source": [
    "### grouping the ages within the range of 10 as we have big range of age"
   ]
  },
  {
   "cell_type": "code",
   "execution_count": 11,
   "metadata": {},
   "outputs": [
    {
     "name": "stdout",
     "output_type": "stream",
     "text": [
      "['21 - 31', '31 - 41', '41 - 51', '51 - 61', '61 - 71', '71 - 81']\n"
     ]
    }
   ],
   "source": [
    "# Group the tenure in bins of 12 months\n",
    "labels = [\"{0} - {1}\".format(i, i + 10) for i in range(21, 72, 10)]\n",
    "print(labels)\n",
    "\n",
    "#cut function create group or segment the data on bins\n",
    "df['Age_group'] = pd.cut(df.Age, range(21, 90, 10), right=False, labels=labels)"
   ]
  },
  {
   "cell_type": "markdown",
   "metadata": {},
   "source": [
    "### Single Variate Analysis"
   ]
  },
  {
   "cell_type": "markdown",
   "metadata": {},
   "source": [
    "### 1.Gender"
   ]
  },
  {
   "cell_type": "code",
   "execution_count": 12,
   "metadata": {},
   "outputs": [
    {
     "data": {
      "text/plain": [
       "<AxesSubplot:xlabel='Gender', ylabel='count'>"
      ]
     },
     "execution_count": 12,
     "metadata": {},
     "output_type": "execute_result"
    },
    {
     "data": {
      "image/png": "[encoded data removed]",
      "text/plain": [
       "<Figure size 432x288 with 1 Axes>"
      ]
     },
     "metadata": {
      "needs_background": "light"
     },
     "output_type": "display_data"
    }
   ],
   "source": [
    "sns.countplot(x='Gender', data=df)"
   ]
  },
  {
   "cell_type": "markdown",
   "metadata": {},
   "source": [
    "- female are less in number than male\n",
    "- next let's see what is the churn rate according to gender"
   ]
  },
  {
   "cell_type": "code",
   "execution_count": 13,
   "metadata": {},
   "outputs": [
    {
     "name": "stderr",
     "output_type": "stream",
     "text": [
      "C:\\ProgramData\\Anaconda3\\lib\\site-packages\\seaborn\\_decorators.py:36: FutureWarning: Pass the following variable as a keyword arg: x. From version 0.12, the only valid positional argument will be `data`, and passing other arguments without an explicit keyword will result in an error or misinterpretation.\n",
      "  warnings.warn(\n"
     ]
    },
    {
     "data": {
      "text/plain": [
       "<AxesSubplot:xlabel='Gender', ylabel='count'>"
      ]
     },
     "execution_count": 13,
     "metadata": {},
     "output_type": "execute_result"
    },
    {
     "data": {
      "image/png": "[encoded data removed]",
      "text/plain": [
       "<Figure size 432x288 with 1 Axes>"
      ]
     },
     "metadata": {
      "needs_background": "light"
     },
     "output_type": "display_data"
    }
   ],
   "source": [
    "sns.countplot(df['Gender'],hue=df['Is_Churn'])"
   ]
  },
  {
   "cell_type": "code",
   "execution_count": 14,
   "metadata": {},
   "outputs": [
    {
     "data": {
      "text/html": [
       "<div>\n",
       "<style scoped>\n",
       "    .dataframe tbody tr th:only-of-type {\n",
       "        vertical-align: middle;\n",
       "    }\n",
       "\n",
       "    .dataframe tbody tr th {\n",
       "        vertical-align: top;\n",
       "    }\n",
       "\n",
       "    .dataframe thead th {\n",
       "        text-align: right;\n",
       "    }\n",
       "</style>\n",
       "<table border=\"1\" class=\"dataframe\">\n",
       "  <thead>\n",
       "    <tr style=\"text-align: right;\">\n",
       "      <th></th>\n",
       "      <th>Is_Churn</th>\n",
       "    </tr>\n",
       "    <tr>\n",
       "      <th>Gender</th>\n",
       "      <th></th>\n",
       "    </tr>\n",
       "  </thead>\n",
       "  <tbody>\n",
       "    <tr>\n",
       "      <th>Female</th>\n",
       "      <td>0.25576</td>\n",
       "    </tr>\n",
       "    <tr>\n",
       "      <th>Male</th>\n",
       "      <td>0.21041</td>\n",
       "    </tr>\n",
       "  </tbody>\n",
       "</table>\n",
       "</div>"
      ],
      "text/plain": [
       "        Is_Churn\n",
       "Gender          \n",
       "Female   0.25576\n",
       "Male     0.21041"
      ]
     },
     "execution_count": 14,
     "metadata": {},
     "output_type": "execute_result"
    }
   ],
   "source": [
    "df[['Gender','Is_Churn']].groupby(['Gender']).mean()"
   ]
  },
  {
   "cell_type": "markdown",
   "metadata": {},
   "source": [
    "#### the average churn rate of male and female has 4% difference, females are more likely to churn than man"
   ]
  },
  {
   "cell_type": "code",
   "execution_count": 15,
   "metadata": {},
   "outputs": [
    {
     "data": {
      "text/html": [
       "<div>\n",
       "<style scoped>\n",
       "    .dataframe tbody tr th:only-of-type {\n",
       "        vertical-align: middle;\n",
       "    }\n",
       "\n",
       "    .dataframe tbody tr th {\n",
       "        vertical-align: top;\n",
       "    }\n",
       "\n",
       "    .dataframe thead th {\n",
       "        text-align: right;\n",
       "    }\n",
       "</style>\n",
       "<table border=\"1\" class=\"dataframe\">\n",
       "  <thead>\n",
       "    <tr style=\"text-align: right;\">\n",
       "      <th>Income</th>\n",
       "      <th>10L - 15L</th>\n",
       "      <th>5L - 10L</th>\n",
       "      <th>Less than 5L</th>\n",
       "      <th>More than 15L</th>\n",
       "    </tr>\n",
       "    <tr>\n",
       "      <th>Gender</th>\n",
       "      <th></th>\n",
       "      <th></th>\n",
       "      <th></th>\n",
       "      <th></th>\n",
       "    </tr>\n",
       "  </thead>\n",
       "  <tbody>\n",
       "    <tr>\n",
       "      <th>Female</th>\n",
       "      <td>0.260023</td>\n",
       "      <td>0.251834</td>\n",
       "      <td>0.244696</td>\n",
       "      <td>0.267188</td>\n",
       "    </tr>\n",
       "    <tr>\n",
       "      <th>Male</th>\n",
       "      <td>0.214427</td>\n",
       "      <td>0.200194</td>\n",
       "      <td>0.209007</td>\n",
       "      <td>0.221277</td>\n",
       "    </tr>\n",
       "  </tbody>\n",
       "</table>\n",
       "</div>"
      ],
      "text/plain": [
       "Income  10L - 15L  5L - 10L  Less than 5L  More than 15L\n",
       "Gender                                                  \n",
       "Female   0.260023  0.251834      0.244696       0.267188\n",
       "Male     0.214427  0.200194      0.209007       0.221277"
      ]
     },
     "execution_count": 15,
     "metadata": {},
     "output_type": "execute_result"
    }
   ],
   "source": [
    "table = pd.pivot_table(df, values='Is_Churn', index = ['Gender'],columns=['Income'],aggfunc=np.mean)\n",
    "table"
   ]
  },
  {
   "cell_type": "code",
   "execution_count": 16,
   "metadata": {},
   "outputs": [
    {
     "data": {
      "text/html": [
       "<div>\n",
       "<style scoped>\n",
       "    .dataframe tbody tr th:only-of-type {\n",
       "        vertical-align: middle;\n",
       "    }\n",
       "\n",
       "    .dataframe tbody tr th {\n",
       "        vertical-align: top;\n",
       "    }\n",
       "\n",
       "    .dataframe thead th {\n",
       "        text-align: right;\n",
       "    }\n",
       "</style>\n",
       "<table border=\"1\" class=\"dataframe\">\n",
       "  <thead>\n",
       "    <tr style=\"text-align: right;\">\n",
       "      <th>Vintage</th>\n",
       "      <th>0</th>\n",
       "      <th>1</th>\n",
       "      <th>2</th>\n",
       "      <th>3</th>\n",
       "      <th>4</th>\n",
       "      <th>5</th>\n",
       "    </tr>\n",
       "    <tr>\n",
       "      <th>Gender</th>\n",
       "      <th></th>\n",
       "      <th></th>\n",
       "      <th></th>\n",
       "      <th></th>\n",
       "      <th></th>\n",
       "      <th></th>\n",
       "    </tr>\n",
       "  </thead>\n",
       "  <tbody>\n",
       "    <tr>\n",
       "      <th>Female</th>\n",
       "      <td>0.234339</td>\n",
       "      <td>0.257649</td>\n",
       "      <td>0.225166</td>\n",
       "      <td>0.287284</td>\n",
       "      <td>0.270968</td>\n",
       "      <td>0.232000</td>\n",
       "    </tr>\n",
       "    <tr>\n",
       "      <th>Male</th>\n",
       "      <td>0.190476</td>\n",
       "      <td>0.229195</td>\n",
       "      <td>0.193370</td>\n",
       "      <td>0.203125</td>\n",
       "      <td>0.226331</td>\n",
       "      <td>0.231183</td>\n",
       "    </tr>\n",
       "  </tbody>\n",
       "</table>\n",
       "</div>"
      ],
      "text/plain": [
       "Vintage         0         1         2         3         4         5\n",
       "Gender                                                             \n",
       "Female   0.234339  0.257649  0.225166  0.287284  0.270968  0.232000\n",
       "Male     0.190476  0.229195  0.193370  0.203125  0.226331  0.231183"
      ]
     },
     "execution_count": 16,
     "metadata": {},
     "output_type": "execute_result"
    }
   ],
   "source": [
    "table = pd.pivot_table(df, values='Is_Churn', index = ['Gender'],columns=['Vintage'],aggfunc=np.mean)\n",
    "table"
   ]
  },
  {
   "cell_type": "code",
   "execution_count": 17,
   "metadata": {},
   "outputs": [
    {
     "data": {
      "text/html": [
       "<div>\n",
       "<style scoped>\n",
       "    .dataframe tbody tr th:only-of-type {\n",
       "        vertical-align: middle;\n",
       "    }\n",
       "\n",
       "    .dataframe tbody tr th {\n",
       "        vertical-align: top;\n",
       "    }\n",
       "\n",
       "    .dataframe thead th {\n",
       "        text-align: right;\n",
       "    }\n",
       "</style>\n",
       "<table border=\"1\" class=\"dataframe\">\n",
       "  <thead>\n",
       "    <tr style=\"text-align: right;\">\n",
       "      <th>Transaction_Status</th>\n",
       "      <th>0</th>\n",
       "      <th>1</th>\n",
       "    </tr>\n",
       "    <tr>\n",
       "      <th>Gender</th>\n",
       "      <th></th>\n",
       "      <th></th>\n",
       "    </tr>\n",
       "  </thead>\n",
       "  <tbody>\n",
       "    <tr>\n",
       "      <th>Female</th>\n",
       "      <td>0.293486</td>\n",
       "      <td>0.219496</td>\n",
       "    </tr>\n",
       "    <tr>\n",
       "      <th>Male</th>\n",
       "      <td>0.247834</td>\n",
       "      <td>0.175970</td>\n",
       "    </tr>\n",
       "  </tbody>\n",
       "</table>\n",
       "</div>"
      ],
      "text/plain": [
       "Transaction_Status         0         1\n",
       "Gender                                \n",
       "Female              0.293486  0.219496\n",
       "Male                0.247834  0.175970"
      ]
     },
     "execution_count": 17,
     "metadata": {},
     "output_type": "execute_result"
    }
   ],
   "source": [
    "table = pd.pivot_table(df, values='Is_Churn', index = ['Gender'],columns=['Transaction_Status'],aggfunc=np.mean)\n",
    "table"
   ]
  },
  {
   "cell_type": "code",
   "execution_count": 18,
   "metadata": {},
   "outputs": [
    {
     "data": {
      "text/html": [
       "<div>\n",
       "<style scoped>\n",
       "    .dataframe tbody tr th:only-of-type {\n",
       "        vertical-align: middle;\n",
       "    }\n",
       "\n",
       "    .dataframe tbody tr th {\n",
       "        vertical-align: top;\n",
       "    }\n",
       "\n",
       "    .dataframe thead th {\n",
       "        text-align: right;\n",
       "    }\n",
       "</style>\n",
       "<table border=\"1\" class=\"dataframe\">\n",
       "  <thead>\n",
       "    <tr style=\"text-align: right;\">\n",
       "      <th>Product_Holdings</th>\n",
       "      <th>1</th>\n",
       "      <th>2</th>\n",
       "      <th>3+</th>\n",
       "    </tr>\n",
       "    <tr>\n",
       "      <th>Gender</th>\n",
       "      <th></th>\n",
       "      <th></th>\n",
       "      <th></th>\n",
       "    </tr>\n",
       "  </thead>\n",
       "  <tbody>\n",
       "    <tr>\n",
       "      <th>Female</th>\n",
       "      <td>0.284615</td>\n",
       "      <td>0.227891</td>\n",
       "      <td>0.253623</td>\n",
       "    </tr>\n",
       "    <tr>\n",
       "      <th>Male</th>\n",
       "      <td>0.214124</td>\n",
       "      <td>0.208528</td>\n",
       "      <td>0.184615</td>\n",
       "    </tr>\n",
       "  </tbody>\n",
       "</table>\n",
       "</div>"
      ],
      "text/plain": [
       "Product_Holdings         1         2        3+\n",
       "Gender                                        \n",
       "Female            0.284615  0.227891  0.253623\n",
       "Male              0.214124  0.208528  0.184615"
      ]
     },
     "execution_count": 18,
     "metadata": {},
     "output_type": "execute_result"
    }
   ],
   "source": [
    "table = pd.pivot_table(df, values='Is_Churn', index = ['Gender'],columns=['Product_Holdings'],aggfunc=np.mean)\n",
    "table"
   ]
  },
  {
   "cell_type": "code",
   "execution_count": 19,
   "metadata": {},
   "outputs": [
    {
     "data": {
      "text/html": [
       "<div>\n",
       "<style scoped>\n",
       "    .dataframe tbody tr th:only-of-type {\n",
       "        vertical-align: middle;\n",
       "    }\n",
       "\n",
       "    .dataframe tbody tr th {\n",
       "        vertical-align: top;\n",
       "    }\n",
       "\n",
       "    .dataframe thead th {\n",
       "        text-align: right;\n",
       "    }\n",
       "</style>\n",
       "<table border=\"1\" class=\"dataframe\">\n",
       "  <thead>\n",
       "    <tr style=\"text-align: right;\">\n",
       "      <th>Credit_Card</th>\n",
       "      <th>0</th>\n",
       "      <th>1</th>\n",
       "    </tr>\n",
       "    <tr>\n",
       "      <th>Gender</th>\n",
       "      <th></th>\n",
       "      <th></th>\n",
       "    </tr>\n",
       "  </thead>\n",
       "  <tbody>\n",
       "    <tr>\n",
       "      <th>Female</th>\n",
       "      <td>0.256944</td>\n",
       "      <td>0.255172</td>\n",
       "    </tr>\n",
       "    <tr>\n",
       "      <th>Male</th>\n",
       "      <td>0.210784</td>\n",
       "      <td>0.210218</td>\n",
       "    </tr>\n",
       "  </tbody>\n",
       "</table>\n",
       "</div>"
      ],
      "text/plain": [
       "Credit_Card         0         1\n",
       "Gender                         \n",
       "Female       0.256944  0.255172\n",
       "Male         0.210784  0.210218"
      ]
     },
     "execution_count": 19,
     "metadata": {},
     "output_type": "execute_result"
    }
   ],
   "source": [
    "table = pd.pivot_table(df, values='Is_Churn', index = ['Gender'],columns=['Credit_Card'],aggfunc=np.mean)\n",
    "table"
   ]
  },
  {
   "cell_type": "code",
   "execution_count": 20,
   "metadata": {},
   "outputs": [
    {
     "data": {
      "text/html": [
       "<div>\n",
       "<style scoped>\n",
       "    .dataframe tbody tr th:only-of-type {\n",
       "        vertical-align: middle;\n",
       "    }\n",
       "\n",
       "    .dataframe tbody tr th {\n",
       "        vertical-align: top;\n",
       "    }\n",
       "\n",
       "    .dataframe thead th {\n",
       "        text-align: right;\n",
       "    }\n",
       "</style>\n",
       "<table border=\"1\" class=\"dataframe\">\n",
       "  <thead>\n",
       "    <tr style=\"text-align: right;\">\n",
       "      <th>Credit_Category</th>\n",
       "      <th>Average</th>\n",
       "      <th>Good</th>\n",
       "      <th>Poor</th>\n",
       "    </tr>\n",
       "    <tr>\n",
       "      <th>Gender</th>\n",
       "      <th></th>\n",
       "      <th></th>\n",
       "      <th></th>\n",
       "    </tr>\n",
       "  </thead>\n",
       "  <tbody>\n",
       "    <tr>\n",
       "      <th>Female</th>\n",
       "      <td>0.248936</td>\n",
       "      <td>0.221902</td>\n",
       "      <td>0.277066</td>\n",
       "    </tr>\n",
       "    <tr>\n",
       "      <th>Male</th>\n",
       "      <td>0.214869</td>\n",
       "      <td>0.187575</td>\n",
       "      <td>0.218900</td>\n",
       "    </tr>\n",
       "  </tbody>\n",
       "</table>\n",
       "</div>"
      ],
      "text/plain": [
       "Credit_Category   Average      Good      Poor\n",
       "Gender                                       \n",
       "Female           0.248936  0.221902  0.277066\n",
       "Male             0.214869  0.187575  0.218900"
      ]
     },
     "execution_count": 20,
     "metadata": {},
     "output_type": "execute_result"
    }
   ],
   "source": [
    "table = pd.pivot_table(df, values='Is_Churn', index = ['Gender'],columns=['Credit_Category'],aggfunc=np.mean)\n",
    "table"
   ]
  },
  {
   "cell_type": "markdown",
   "metadata": {},
   "source": [
    "### with all these pivot_table we can surely say that female churn_rate is higher than man\n",
    "- since it is showing significant difference we will keep this variable in our model"
   ]
  },
  {
   "cell_type": "code",
   "execution_count": 21,
   "metadata": {},
   "outputs": [],
   "source": [
    "final_feature.append('Gender')"
   ]
  },
  {
   "cell_type": "markdown",
   "metadata": {},
   "source": [
    "### 2.Income"
   ]
  },
  {
   "cell_type": "code",
   "execution_count": 22,
   "metadata": {},
   "outputs": [
    {
     "data": {
      "text/plain": [
       "<AxesSubplot:xlabel='Income', ylabel='count'>"
      ]
     },
     "execution_count": 22,
     "metadata": {},
     "output_type": "execute_result"
    },
    {
     "data": {
      "image/png": "[encoded data removed]",
      "text/plain": [
       "<Figure size 432x288 with 1 Axes>"
      ]
     },
     "metadata": {
      "needs_background": "light"
     },
     "output_type": "display_data"
    }
   ],
   "source": [
    "sns.countplot(x='Income', data=df)"
   ]
  },
  {
   "cell_type": "code",
   "execution_count": 23,
   "metadata": {},
   "outputs": [
    {
     "data": {
      "text/plain": [
       "<AxesSubplot:xlabel='Income', ylabel='count'>"
      ]
     },
     "execution_count": 23,
     "metadata": {},
     "output_type": "execute_result"
    },
    {
     "data": {
      "image/png": "[encoded data removed]",
      "text/plain": [
       "<Figure size 432x288 with 1 Axes>"
      ]
     },
     "metadata": {
      "needs_background": "light"
     },
     "output_type": "display_data"
    }
   ],
   "source": [
    "sns.countplot(x='Income', hue='Is_Churn', data=df)"
   ]
  },
  {
   "cell_type": "code",
   "execution_count": 24,
   "metadata": {},
   "outputs": [
    {
     "data": {
      "text/html": [
       "<div>\n",
       "<style scoped>\n",
       "    .dataframe tbody tr th:only-of-type {\n",
       "        vertical-align: middle;\n",
       "    }\n",
       "\n",
       "    .dataframe tbody tr th {\n",
       "        vertical-align: top;\n",
       "    }\n",
       "\n",
       "    .dataframe thead th {\n",
       "        text-align: right;\n",
       "    }\n",
       "</style>\n",
       "<table border=\"1\" class=\"dataframe\">\n",
       "  <thead>\n",
       "    <tr style=\"text-align: right;\">\n",
       "      <th></th>\n",
       "      <th>Is_Churn</th>\n",
       "    </tr>\n",
       "    <tr>\n",
       "      <th>Income</th>\n",
       "      <th></th>\n",
       "    </tr>\n",
       "  </thead>\n",
       "  <tbody>\n",
       "    <tr>\n",
       "      <th>10L - 15L</th>\n",
       "      <td>0.235544</td>\n",
       "    </tr>\n",
       "    <tr>\n",
       "      <th>5L - 10L</th>\n",
       "      <td>0.223064</td>\n",
       "    </tr>\n",
       "    <tr>\n",
       "      <th>Less than 5L</th>\n",
       "      <td>0.225048</td>\n",
       "    </tr>\n",
       "    <tr>\n",
       "      <th>More than 15L</th>\n",
       "      <td>0.243123</td>\n",
       "    </tr>\n",
       "  </tbody>\n",
       "</table>\n",
       "</div>"
      ],
      "text/plain": [
       "               Is_Churn\n",
       "Income                 \n",
       "10L - 15L      0.235544\n",
       "5L - 10L       0.223064\n",
       "Less than 5L   0.225048\n",
       "More than 15L  0.243123"
      ]
     },
     "execution_count": 24,
     "metadata": {},
     "output_type": "execute_result"
    }
   ],
   "source": [
    "table = pd.pivot_table(df, values='Is_Churn',index=['Income'], aggfunc=np.mean)\n",
    "table"
   ]
  },
  {
   "cell_type": "markdown",
   "metadata": {},
   "source": [
    "- all type of income is not showing any significant difference for churn rate, we will compare it with another variable to see if we can get something new otherwise we will discard the variable"
   ]
  },
  {
   "cell_type": "code",
   "execution_count": 25,
   "metadata": {},
   "outputs": [
    {
     "data": {
      "text/plain": [
       "Index(['ID', 'Age', 'Gender', 'Income', 'Balance', 'Vintage',\n",
       "       'Transaction_Status', 'Product_Holdings', 'Credit_Card',\n",
       "       'Credit_Category', 'Is_Churn', 'Age_group'],\n",
       "      dtype='object')"
      ]
     },
     "execution_count": 25,
     "metadata": {},
     "output_type": "execute_result"
    }
   ],
   "source": [
    "df.columns"
   ]
  },
  {
   "cell_type": "code",
   "execution_count": 26,
   "metadata": {},
   "outputs": [
    {
     "name": "stdout",
     "output_type": "stream",
     "text": [
      "\n",
      "Vintage               0         1         2         3         4         5\n",
      "Income                                                                   \n",
      "10L - 15L      0.227799  0.255376  0.207254  0.206549  0.279570  0.242424\n",
      "5L - 10L       0.195652  0.233422  0.217949  0.277202  0.173684  0.250000\n",
      "Less than 5L   0.210084  0.237288  0.197368  0.235110  0.251773  0.184211\n",
      "More than 15L  0.205240  0.243028  0.205645  0.247525  0.305344  0.250000\n",
      "\n",
      "Transaction_Status         0         1\n",
      "Income                                \n",
      "10L - 15L           0.272830  0.202405\n",
      "5L - 10L            0.263904  0.182796\n",
      "Less than 5L        0.261598  0.189460\n",
      "More than 15L       0.279687  0.209929\n",
      "\n",
      "Product_Holdings         1         2        3+\n",
      "Income                                        \n",
      "10L - 15L         0.250821  0.219780  0.241935\n",
      "5L - 10L          0.237714  0.209641  0.212500\n",
      "Less than 5L      0.224093  0.230352  0.174603\n",
      "More than 15L     0.275000  0.210280  0.253968\n",
      "\n",
      "Credit_Card           0         1\n",
      "Income                           \n",
      "10L - 15L      0.232198  0.237288\n",
      "5L - 10L       0.223333  0.222935\n",
      "Less than 5L   0.234973  0.219727\n",
      "More than 15L  0.237986  0.245595\n",
      "\n",
      "Credit_Category   Average      Good      Poor\n",
      "Income                                       \n",
      "10L - 15L        0.198653  0.203271  0.276941\n",
      "5L - 10L         0.216822  0.224215  0.226328\n",
      "Less than 5L     0.266802  0.162722  0.225806\n",
      "More than 15L    0.250591  0.216301  0.252073\n",
      "\n",
      "Age_group       21 - 31   31 - 41   41 - 51   51 - 61   61 - 71   71 - 81\n",
      "Income                                                                   \n",
      "10L - 15L      0.105485  0.184282  0.255282  0.406015  0.402778  0.250000\n",
      "5L - 10L       0.090535  0.205442  0.230357  0.327935  0.457627  0.666667\n",
      "Less than 5L   0.102679  0.186010  0.261062  0.314433  0.464789  0.666667\n",
      "More than 15L  0.104046  0.191729  0.289003  0.363636  0.437500  0.333333\n"
     ]
    }
   ],
   "source": [
    "for i in ['Vintage','Transaction_Status', 'Product_Holdings', 'Credit_Card','Credit_Category','Age_group']:\n",
    "    table = pd.pivot_table(df, values='Is_Churn', index=['Income'], columns=[i])\n",
    "    print()\n",
    "    print(table)"
   ]
  },
  {
   "cell_type": "markdown",
   "metadata": {},
   "source": [
    "#### we can clearly see that income is not the reason for customers to churn, hence we will not include this variable"
   ]
  },
  {
   "cell_type": "code",
   "execution_count": null,
   "metadata": {},
   "outputs": [],
   "source": []
  },
  {
   "cell_type": "markdown",
   "metadata": {},
   "source": [
    "### 4. Vintage"
   ]
  },
  {
   "cell_type": "code",
   "execution_count": 27,
   "metadata": {},
   "outputs": [
    {
     "data": {
      "text/plain": [
       "<AxesSubplot:xlabel='Vintage', ylabel='count'>"
      ]
     },
     "execution_count": 27,
     "metadata": {},
     "output_type": "execute_result"
    },
    {
     "data": {
      "image/png": "[encoded data removed]",
      "text/plain": [
       "<Figure size 432x288 with 1 Axes>"
      ]
     },
     "metadata": {
      "needs_background": "light"
     },
     "output_type": "display_data"
    }
   ],
   "source": [
    "sns.countplot(x='Vintage', data=df)"
   ]
  },
  {
   "cell_type": "code",
   "execution_count": 28,
   "metadata": {},
   "outputs": [
    {
     "data": {
      "text/plain": [
       "<AxesSubplot:xlabel='Vintage', ylabel='count'>"
      ]
     },
     "execution_count": 28,
     "metadata": {},
     "output_type": "execute_result"
    },
    {
     "data": {
      "image/png": "[encoded data removed]",
      "text/plain": [
       "<Figure size 432x288 with 1 Axes>"
      ]
     },
     "metadata": {
      "needs_background": "light"
     },
     "output_type": "display_data"
    }
   ],
   "source": [
    "sns.countplot(x='Vintage', hue = 'Is_Churn', data=df)"
   ]
  },
  {
   "cell_type": "code",
   "execution_count": 29,
   "metadata": {},
   "outputs": [
    {
     "data": {
      "text/html": [
       "<div>\n",
       "<style scoped>\n",
       "    .dataframe tbody tr th:only-of-type {\n",
       "        vertical-align: middle;\n",
       "    }\n",
       "\n",
       "    .dataframe tbody tr th {\n",
       "        vertical-align: top;\n",
       "    }\n",
       "\n",
       "    .dataframe thead th {\n",
       "        text-align: right;\n",
       "    }\n",
       "</style>\n",
       "<table border=\"1\" class=\"dataframe\">\n",
       "  <thead>\n",
       "    <tr style=\"text-align: right;\">\n",
       "      <th></th>\n",
       "      <th>Is_Churn</th>\n",
       "    </tr>\n",
       "    <tr>\n",
       "      <th>Vintage</th>\n",
       "      <th></th>\n",
       "    </tr>\n",
       "  </thead>\n",
       "  <tbody>\n",
       "    <tr>\n",
       "      <th>0</th>\n",
       "      <td>0.210251</td>\n",
       "    </tr>\n",
       "    <tr>\n",
       "      <th>1</th>\n",
       "      <td>0.242245</td>\n",
       "    </tr>\n",
       "    <tr>\n",
       "      <th>2</th>\n",
       "      <td>0.207831</td>\n",
       "    </tr>\n",
       "    <tr>\n",
       "      <th>3</th>\n",
       "      <td>0.241281</td>\n",
       "    </tr>\n",
       "    <tr>\n",
       "      <th>4</th>\n",
       "      <td>0.247685</td>\n",
       "    </tr>\n",
       "    <tr>\n",
       "      <th>5</th>\n",
       "      <td>0.231511</td>\n",
       "    </tr>\n",
       "  </tbody>\n",
       "</table>\n",
       "</div>"
      ],
      "text/plain": [
       "         Is_Churn\n",
       "Vintage          \n",
       "0        0.210251\n",
       "1        0.242245\n",
       "2        0.207831\n",
       "3        0.241281\n",
       "4        0.247685\n",
       "5        0.231511"
      ]
     },
     "execution_count": 29,
     "metadata": {},
     "output_type": "execute_result"
    }
   ],
   "source": [
    "table = pd.pivot_table(df, values = 'Is_Churn', index='Vintage')\n",
    "table"
   ]
  },
  {
   "cell_type": "markdown",
   "metadata": {},
   "source": [
    "### vintage is also no showing much difference in churn rate let's see it with other variables"
   ]
  },
  {
   "cell_type": "code",
   "execution_count": 30,
   "metadata": {},
   "outputs": [
    {
     "data": {
      "text/plain": [
       "Index(['ID', 'Age', 'Gender', 'Income', 'Balance', 'Vintage',\n",
       "       'Transaction_Status', 'Product_Holdings', 'Credit_Card',\n",
       "       'Credit_Category', 'Is_Churn', 'Age_group'],\n",
       "      dtype='object')"
      ]
     },
     "execution_count": 30,
     "metadata": {},
     "output_type": "execute_result"
    }
   ],
   "source": [
    "df.columns"
   ]
  },
  {
   "cell_type": "code",
   "execution_count": 31,
   "metadata": {},
   "outputs": [
    {
     "name": "stdout",
     "output_type": "stream",
     "text": [
      "Transaction_Status         0         1\n",
      "Vintage                               \n",
      "0                   0.246014  0.179884\n",
      "1                   0.268817  0.217639\n",
      "2                   0.238095  0.180516\n",
      "3                   0.284271  0.199438\n",
      "4                   0.302937  0.192604\n",
      "5                   0.250000  0.211921\n",
      "Product_Holdings         1         2        3+\n",
      "Vintage                                       \n",
      "0                 0.231084  0.181818  0.296296\n",
      "1                 0.253478  0.233025  0.220339\n",
      "2                 0.206299  0.215531  0.145161\n",
      "3                 0.260870  0.224818  0.207547\n",
      "4                 0.275290  0.222571  0.236364\n",
      "5                 0.238994  0.207143  0.416667\n",
      "Credit_Card         0         1\n",
      "Vintage                        \n",
      "0            0.202614  0.213846\n",
      "1            0.239915  0.243488\n",
      "2            0.217978  0.202718\n",
      "3            0.234440  0.244854\n",
      "4            0.260970  0.241020\n",
      "5            0.200000  0.245370\n",
      "Credit_Category   Average      Good      Poor\n",
      "Vintage                                      \n",
      "0                0.200658  0.203620  0.220418\n",
      "1                0.242500  0.201320  0.261137\n",
      "2                0.218894  0.197232  0.204959\n",
      "3                0.243309  0.212575  0.254545\n",
      "4                0.253133  0.192053  0.272269\n",
      "5                0.178947  0.231707  0.268657\n",
      "Age_group   21 - 31   31 - 41   41 - 51   51 - 61   61 - 71  71 - 81\n",
      "Vintage                                                             \n",
      "0          0.089172  0.145773  0.262411  0.345324  0.424242      0.5\n",
      "1          0.105556  0.205224  0.272059  0.360000  0.433962      1.0\n",
      "2          0.086957  0.202226  0.201087  0.312849  0.357143      0.5\n",
      "3          0.075269  0.185321  0.293303  0.383784  0.461538      0.5\n",
      "4          0.148936  0.200743  0.254593  0.372973  0.541667      0.0\n",
      "5          0.137931  0.210526  0.222222  0.357143  0.375000      NaN\n"
     ]
    }
   ],
   "source": [
    "for i in ['Transaction_Status', 'Product_Holdings', 'Credit_Card','Credit_Category','Age_group']:\n",
    "    table = pd.pivot_table(df, values='Is_Churn', index=['Vintage'], columns=[i])\n",
    "    print(table)"
   ]
  },
  {
   "cell_type": "markdown",
   "metadata": {},
   "source": [
    "### vintage and age group is related, i will keep this feature as no of years a customer associated with bank can be helpful"
   ]
  },
  {
   "cell_type": "code",
   "execution_count": 32,
   "metadata": {},
   "outputs": [],
   "source": [
    "final_feature.append(\"Vintage\")"
   ]
  },
  {
   "cell_type": "markdown",
   "metadata": {},
   "source": [
    "### 5. Transaction Status"
   ]
  },
  {
   "cell_type": "code",
   "execution_count": 33,
   "metadata": {},
   "outputs": [
    {
     "data": {
      "text/plain": [
       "Index(['ID', 'Age', 'Gender', 'Income', 'Balance', 'Vintage',\n",
       "       'Transaction_Status', 'Product_Holdings', 'Credit_Card',\n",
       "       'Credit_Category', 'Is_Churn', 'Age_group'],\n",
       "      dtype='object')"
      ]
     },
     "execution_count": 33,
     "metadata": {},
     "output_type": "execute_result"
    }
   ],
   "source": [
    "df.columns"
   ]
  },
  {
   "cell_type": "code",
   "execution_count": 34,
   "metadata": {},
   "outputs": [
    {
     "data": {
      "text/plain": [
       "<AxesSubplot:xlabel='Transaction_Status', ylabel='count'>"
      ]
     },
     "execution_count": 34,
     "metadata": {},
     "output_type": "execute_result"
    },
    {
     "data": {
      "image/png": "[encoded data removed]",
      "text/plain": [
       "<Figure size 432x288 with 1 Axes>"
      ]
     },
     "metadata": {
      "needs_background": "light"
     },
     "output_type": "display_data"
    }
   ],
   "source": [
    "sns.countplot(data=df, x='Transaction_Status')"
   ]
  },
  {
   "cell_type": "code",
   "execution_count": 35,
   "metadata": {},
   "outputs": [
    {
     "data": {
      "text/plain": [
       "<AxesSubplot:xlabel='Transaction_Status', ylabel='count'>"
      ]
     },
     "execution_count": 35,
     "metadata": {},
     "output_type": "execute_result"
    },
    {
     "data": {
      "image/png": "[encoded data removed]",
      "text/plain": [
       "<Figure size 432x288 with 1 Axes>"
      ]
     },
     "metadata": {
      "needs_background": "light"
     },
     "output_type": "display_data"
    }
   ],
   "source": [
    "sns.countplot(data=df, x='Transaction_Status', hue='Is_Churn')"
   ]
  },
  {
   "cell_type": "code",
   "execution_count": 36,
   "metadata": {},
   "outputs": [
    {
     "data": {
      "text/html": [
       "<div>\n",
       "<style scoped>\n",
       "    .dataframe tbody tr th:only-of-type {\n",
       "        vertical-align: middle;\n",
       "    }\n",
       "\n",
       "    .dataframe tbody tr th {\n",
       "        vertical-align: top;\n",
       "    }\n",
       "\n",
       "    .dataframe thead th {\n",
       "        text-align: right;\n",
       "    }\n",
       "</style>\n",
       "<table border=\"1\" class=\"dataframe\">\n",
       "  <thead>\n",
       "    <tr style=\"text-align: right;\">\n",
       "      <th></th>\n",
       "      <th>Is_Churn</th>\n",
       "    </tr>\n",
       "    <tr>\n",
       "      <th>Transaction_Status</th>\n",
       "      <th></th>\n",
       "    </tr>\n",
       "  </thead>\n",
       "  <tbody>\n",
       "    <tr>\n",
       "      <th>0</th>\n",
       "      <td>0.268944</td>\n",
       "    </tr>\n",
       "    <tr>\n",
       "      <th>1</th>\n",
       "      <td>0.195627</td>\n",
       "    </tr>\n",
       "  </tbody>\n",
       "</table>\n",
       "</div>"
      ],
      "text/plain": [
       "                    Is_Churn\n",
       "Transaction_Status          \n",
       "0                   0.268944\n",
       "1                   0.195627"
      ]
     },
     "execution_count": 36,
     "metadata": {},
     "output_type": "execute_result"
    }
   ],
   "source": [
    "table = pd.pivot_table(df, values = 'Is_Churn', index = ['Transaction_Status'])\n",
    "table"
   ]
  },
  {
   "cell_type": "markdown",
   "metadata": {},
   "source": [
    "### The customer who has not done any transaction in the past three are more likely to churn\n",
    "- This is an important variable so we will keep it"
   ]
  },
  {
   "cell_type": "code",
   "execution_count": 37,
   "metadata": {},
   "outputs": [],
   "source": [
    "final_feature.append('Transaction_Status')"
   ]
  },
  {
   "cell_type": "markdown",
   "metadata": {},
   "source": [
    "### 6. Product Holdings"
   ]
  },
  {
   "cell_type": "code",
   "execution_count": 38,
   "metadata": {},
   "outputs": [
    {
     "data": {
      "text/plain": [
       "<AxesSubplot:xlabel='Product_Holdings', ylabel='count'>"
      ]
     },
     "execution_count": 38,
     "metadata": {},
     "output_type": "execute_result"
    },
    {
     "data": {
      "image/png": "[encoded data removed]",
      "text/plain": [
       "<Figure size 432x288 with 1 Axes>"
      ]
     },
     "metadata": {
      "needs_background": "light"
     },
     "output_type": "display_data"
    }
   ],
   "source": [
    "sns.countplot(data=df, x='Product_Holdings')"
   ]
  },
  {
   "cell_type": "markdown",
   "metadata": {},
   "source": [
    "### Most of the customers has held 1 or 2 product with the bank"
   ]
  },
  {
   "cell_type": "code",
   "execution_count": 39,
   "metadata": {},
   "outputs": [
    {
     "data": {
      "text/plain": [
       "<AxesSubplot:xlabel='Product_Holdings', ylabel='count'>"
      ]
     },
     "execution_count": 39,
     "metadata": {},
     "output_type": "execute_result"
    },
    {
     "data": {
      "image/png": "[encoded data removed]",
      "text/plain": [
       "<Figure size 432x288 with 1 Axes>"
      ]
     },
     "metadata": {
      "needs_background": "light"
     },
     "output_type": "display_data"
    }
   ],
   "source": [
    "#Let's see relation with the churn\n",
    "sns.countplot(data=df, x='Product_Holdings', hue='Is_Churn')"
   ]
  },
  {
   "cell_type": "code",
   "execution_count": 40,
   "metadata": {},
   "outputs": [
    {
     "data": {
      "text/html": [
       "<div>\n",
       "<style scoped>\n",
       "    .dataframe tbody tr th:only-of-type {\n",
       "        vertical-align: middle;\n",
       "    }\n",
       "\n",
       "    .dataframe tbody tr th {\n",
       "        vertical-align: top;\n",
       "    }\n",
       "\n",
       "    .dataframe thead th {\n",
       "        text-align: right;\n",
       "    }\n",
       "</style>\n",
       "<table border=\"1\" class=\"dataframe\">\n",
       "  <thead>\n",
       "    <tr style=\"text-align: right;\">\n",
       "      <th></th>\n",
       "      <th>Is_Churn</th>\n",
       "    </tr>\n",
       "    <tr>\n",
       "      <th>Product_Holdings</th>\n",
       "      <th></th>\n",
       "    </tr>\n",
       "  </thead>\n",
       "  <tbody>\n",
       "    <tr>\n",
       "      <th>1</th>\n",
       "      <td>0.245625</td>\n",
       "    </tr>\n",
       "    <tr>\n",
       "      <th>2</th>\n",
       "      <td>0.217473</td>\n",
       "    </tr>\n",
       "    <tr>\n",
       "      <th>3+</th>\n",
       "      <td>0.220149</td>\n",
       "    </tr>\n",
       "  </tbody>\n",
       "</table>\n",
       "</div>"
      ],
      "text/plain": [
       "                  Is_Churn\n",
       "Product_Holdings          \n",
       "1                 0.245625\n",
       "2                 0.217473\n",
       "3+                0.220149"
      ]
     },
     "execution_count": 40,
     "metadata": {},
     "output_type": "execute_result"
    }
   ],
   "source": [
    "table = pd.pivot_table(df, values='Is_Churn', index =['Product_Holdings'], aggfunc=np.mean)\n",
    "table"
   ]
  },
  {
   "cell_type": "markdown",
   "metadata": {},
   "source": [
    "### This is also not showing much difference"
   ]
  },
  {
   "cell_type": "code",
   "execution_count": null,
   "metadata": {},
   "outputs": [],
   "source": []
  },
  {
   "cell_type": "code",
   "execution_count": 41,
   "metadata": {},
   "outputs": [
    {
     "name": "stdout",
     "output_type": "stream",
     "text": [
      "Transaction_Status         0         1\n",
      "Product_Holdings                      \n",
      "1                   0.293103  0.200122\n",
      "2                   0.245221  0.192192\n",
      "3+                  0.255474  0.183206\n",
      "Credit_Card              0         1\n",
      "Product_Holdings                    \n",
      "1                 0.237965  0.249643\n",
      "2                 0.221689  0.215421\n",
      "3+                0.269663  0.195531\n",
      "Credit_Category    Average      Good      Poor\n",
      "Product_Holdings                              \n",
      "1                 0.244376  0.193505  0.272421\n",
      "2                 0.215967  0.206327  0.223951\n",
      "3+                0.238636  0.276923  0.173913\n",
      "Age_group          21 - 31   31 - 41   41 - 51   51 - 61   61 - 71   71 - 81\n",
      "Product_Holdings                                                            \n",
      "1                 0.106796  0.202758  0.266254  0.394619  0.425373  0.166667\n",
      "2                 0.100703  0.179428  0.246471  0.319249  0.453704  0.714286\n",
      "3+                0.026316  0.222222  0.246914  0.303030  0.500000       NaN\n"
     ]
    }
   ],
   "source": [
    "for i in ['Transaction_Status', 'Credit_Card','Credit_Category','Age_group']:\n",
    "    table = pd.pivot_table(df, values='Is_Churn', index=['Product_Holdings'], columns=[i])\n",
    "    print(table)"
   ]
  },
  {
   "cell_type": "code",
   "execution_count": 42,
   "metadata": {},
   "outputs": [],
   "source": [
    "#this variable is showing some relating with other variables, so i would like to keep this vairable\n",
    "final_feature.append('Product_Holdings')"
   ]
  },
  {
   "cell_type": "markdown",
   "metadata": {},
   "source": [
    "### 7. Credit Card"
   ]
  },
  {
   "cell_type": "code",
   "execution_count": 43,
   "metadata": {},
   "outputs": [
    {
     "name": "stderr",
     "output_type": "stream",
     "text": [
      "C:\\ProgramData\\Anaconda3\\lib\\site-packages\\seaborn\\_decorators.py:36: FutureWarning: Pass the following variable as a keyword arg: x. From version 0.12, the only valid positional argument will be `data`, and passing other arguments without an explicit keyword will result in an error or misinterpretation.\n",
      "  warnings.warn(\n"
     ]
    },
    {
     "data": {
      "text/plain": [
       "<AxesSubplot:xlabel='Credit_Card', ylabel='count'>"
      ]
     },
     "execution_count": 43,
     "metadata": {},
     "output_type": "execute_result"
    },
    {
     "data": {
      "image/png": "[encoded data removed]",
      "text/plain": [
       "<Figure size 432x288 with 1 Axes>"
      ]
     },
     "metadata": {
      "needs_background": "light"
     },
     "output_type": "display_data"
    }
   ],
   "source": [
    "sns.countplot(df['Credit_Card'])"
   ]
  },
  {
   "cell_type": "markdown",
   "metadata": {},
   "source": [
    "### more customers has credit card"
   ]
  },
  {
   "cell_type": "code",
   "execution_count": 44,
   "metadata": {},
   "outputs": [
    {
     "name": "stderr",
     "output_type": "stream",
     "text": [
      "C:\\ProgramData\\Anaconda3\\lib\\site-packages\\seaborn\\_decorators.py:36: FutureWarning: Pass the following variable as a keyword arg: x. From version 0.12, the only valid positional argument will be `data`, and passing other arguments without an explicit keyword will result in an error or misinterpretation.\n",
      "  warnings.warn(\n"
     ]
    },
    {
     "data": {
      "text/plain": [
       "<AxesSubplot:xlabel='Credit_Card', ylabel='count'>"
      ]
     },
     "execution_count": 44,
     "metadata": {},
     "output_type": "execute_result"
    },
    {
     "data": {
      "image/png": "[encoded data removed]",
      "text/plain": [
       "<Figure size 432x288 with 1 Axes>"
      ]
     },
     "metadata": {
      "needs_background": "light"
     },
     "output_type": "display_data"
    }
   ],
   "source": [
    "#let's see with target variable\n",
    "sns.countplot(df['Credit_Card'], hue=df['Is_Churn'])"
   ]
  },
  {
   "cell_type": "code",
   "execution_count": 45,
   "metadata": {},
   "outputs": [
    {
     "data": {
      "text/html": [
       "<div>\n",
       "<style scoped>\n",
       "    .dataframe tbody tr th:only-of-type {\n",
       "        vertical-align: middle;\n",
       "    }\n",
       "\n",
       "    .dataframe tbody tr th {\n",
       "        vertical-align: top;\n",
       "    }\n",
       "\n",
       "    .dataframe thead th {\n",
       "        text-align: right;\n",
       "    }\n",
       "</style>\n",
       "<table border=\"1\" class=\"dataframe\">\n",
       "  <thead>\n",
       "    <tr style=\"text-align: right;\">\n",
       "      <th></th>\n",
       "      <th>Is_Churn</th>\n",
       "    </tr>\n",
       "    <tr>\n",
       "      <th>Credit_Card</th>\n",
       "      <th></th>\n",
       "    </tr>\n",
       "  </thead>\n",
       "  <tbody>\n",
       "    <tr>\n",
       "      <th>0</th>\n",
       "      <td>0.231631</td>\n",
       "    </tr>\n",
       "    <tr>\n",
       "      <th>1</th>\n",
       "      <td>0.230874</td>\n",
       "    </tr>\n",
       "  </tbody>\n",
       "</table>\n",
       "</div>"
      ],
      "text/plain": [
       "             Is_Churn\n",
       "Credit_Card          \n",
       "0            0.231631\n",
       "1            0.230874"
      ]
     },
     "execution_count": 45,
     "metadata": {},
     "output_type": "execute_result"
    }
   ],
   "source": [
    "table=pd.pivot_table(df, values='Is_Churn', index=['Credit_Card'], aggfunc=np.mean)\n",
    "table"
   ]
  },
  {
   "cell_type": "markdown",
   "metadata": {},
   "source": [
    "### There is not much difference on churn rate"
   ]
  },
  {
   "cell_type": "code",
   "execution_count": 46,
   "metadata": {},
   "outputs": [
    {
     "data": {
      "text/plain": [
       "Index(['ID', 'Age', 'Gender', 'Income', 'Balance', 'Vintage',\n",
       "       'Transaction_Status', 'Product_Holdings', 'Credit_Card',\n",
       "       'Credit_Category', 'Is_Churn', 'Age_group'],\n",
       "      dtype='object')"
      ]
     },
     "execution_count": 46,
     "metadata": {},
     "output_type": "execute_result"
    }
   ],
   "source": [
    "df.columns"
   ]
  },
  {
   "cell_type": "code",
   "execution_count": 47,
   "metadata": {},
   "outputs": [
    {
     "name": "stdout",
     "output_type": "stream",
     "text": [
      "Age\n",
      "Age           21        22        23        24        25        26        27  \\\n",
      "Credit_Card                                                                    \n",
      "0            0.0  0.000000  0.000000  0.111111  0.100000  0.120000  0.100000   \n",
      "1            0.0  0.222222  0.157895  0.166667  0.034483  0.026316  0.102273   \n",
      "\n",
      "Age                28        29        30  ...        63        64        65  \\\n",
      "Credit_Card                                ...                                 \n",
      "0            0.215686  0.083333  0.157895  ...  0.545455  0.333333  0.562500   \n",
      "1            0.080808  0.075630  0.098361  ...  0.166667  0.500000  0.526316   \n",
      "\n",
      "Age                66   67   68        69        70     71   72  \n",
      "Credit_Card                                                      \n",
      "0            0.625000  0.2  0.5  0.333333  1.000000  1.000  0.0  \n",
      "1            0.454545  0.6  0.5  0.500000  0.666667  0.375  0.5  \n",
      "\n",
      "[2 rows x 52 columns]\n",
      "Gender\n",
      "Gender         Female      Male\n",
      "Credit_Card                    \n",
      "0            0.256944  0.210784\n",
      "1            0.255172  0.210218\n",
      "Income\n",
      "Income       10L - 15L  5L - 10L  Less than 5L  More than 15L\n",
      "Credit_Card                                                  \n",
      "0             0.232198  0.223333      0.234973       0.237986\n",
      "1             0.237288  0.222935      0.219727       0.245595\n",
      "Vintage\n",
      "Vintage             0         1         2         3        4        5\n",
      "Credit_Card                                                          \n",
      "0            0.202614  0.239915  0.217978  0.234440  0.26097  0.20000\n",
      "1            0.213846  0.243488  0.202718  0.244854  0.24102  0.24537\n",
      "Transaction_Status\n",
      "Transaction_Status         0         1\n",
      "Credit_Card                           \n",
      "0                   0.272227  0.192813\n",
      "1                   0.267262  0.197029\n",
      "Product_Holdings\n",
      "Product_Holdings         1         2        3+\n",
      "Credit_Card                                   \n",
      "0                 0.237965  0.221689  0.269663\n",
      "1                 0.249643  0.215421  0.195531\n",
      "Credit_Category\n",
      "Credit_Category   Average      Good      Poor\n",
      "Credit_Card                                  \n",
      "0                0.214826  0.208897  0.253321\n",
      "1                0.238061  0.200197  0.241345\n",
      "Age_group\n",
      "Age_group     21 - 31   31 - 41   41 - 51   51 - 61   61 - 71   71 - 81\n",
      "Credit_Card                                                            \n",
      "0            0.130584  0.190687  0.250375  0.337979  0.500000  0.666667\n",
      "1            0.085324  0.192841  0.259202  0.364078  0.410714  0.400000\n"
     ]
    }
   ],
   "source": [
    "for i in df.columns:\n",
    "    if i!='ID' and i!='Credit_Card' and i!='Balance' and i!='Is_Churn':\n",
    "        print(i)\n",
    "        table = pd.pivot_table(df, values='Is_Churn', index=['Credit_Card'], columns=[i],aggfunc=np.mean)\n",
    "        print(table)"
   ]
  },
  {
   "cell_type": "code",
   "execution_count": 48,
   "metadata": {},
   "outputs": [
    {
     "data": {
      "text/html": [
       "<div>\n",
       "<style scoped>\n",
       "    .dataframe tbody tr th:only-of-type {\n",
       "        vertical-align: middle;\n",
       "    }\n",
       "\n",
       "    .dataframe tbody tr th {\n",
       "        vertical-align: top;\n",
       "    }\n",
       "\n",
       "    .dataframe thead th {\n",
       "        text-align: right;\n",
       "    }\n",
       "</style>\n",
       "<table border=\"1\" class=\"dataframe\">\n",
       "  <thead>\n",
       "    <tr style=\"text-align: right;\">\n",
       "      <th></th>\n",
       "      <th>Is_Churn</th>\n",
       "    </tr>\n",
       "    <tr>\n",
       "      <th>Credit_Card</th>\n",
       "      <th></th>\n",
       "    </tr>\n",
       "  </thead>\n",
       "  <tbody>\n",
       "    <tr>\n",
       "      <th>0</th>\n",
       "      <td>0.231631</td>\n",
       "    </tr>\n",
       "    <tr>\n",
       "      <th>1</th>\n",
       "      <td>0.230874</td>\n",
       "    </tr>\n",
       "  </tbody>\n",
       "</table>\n",
       "</div>"
      ],
      "text/plain": [
       "             Is_Churn\n",
       "Credit_Card          \n",
       "0            0.231631\n",
       "1            0.230874"
      ]
     },
     "execution_count": 48,
     "metadata": {},
     "output_type": "execute_result"
    }
   ],
   "source": [
    "df[['Credit_Card','Is_Churn']].groupby('Credit_Card').mean()"
   ]
  },
  {
   "cell_type": "code",
   "execution_count": 49,
   "metadata": {},
   "outputs": [],
   "source": [
    "#Credit Card is not showing any much difference so i will exclude it"
   ]
  },
  {
   "cell_type": "markdown",
   "metadata": {},
   "source": [
    "### 8. Credit Category"
   ]
  },
  {
   "cell_type": "code",
   "execution_count": 50,
   "metadata": {},
   "outputs": [
    {
     "name": "stderr",
     "output_type": "stream",
     "text": [
      "C:\\ProgramData\\Anaconda3\\lib\\site-packages\\seaborn\\_decorators.py:36: FutureWarning: Pass the following variable as a keyword arg: x. From version 0.12, the only valid positional argument will be `data`, and passing other arguments without an explicit keyword will result in an error or misinterpretation.\n",
      "  warnings.warn(\n"
     ]
    },
    {
     "data": {
      "text/plain": [
       "<AxesSubplot:xlabel='Credit_Category', ylabel='count'>"
      ]
     },
     "execution_count": 50,
     "metadata": {},
     "output_type": "execute_result"
    },
    {
     "data": {
      "image/png": "[encoded data removed]",
      "text/plain": [
       "<Figure size 432x288 with 1 Axes>"
      ]
     },
     "metadata": {
      "needs_background": "light"
     },
     "output_type": "display_data"
    }
   ],
   "source": [
    "sns.countplot(df['Credit_Category'])"
   ]
  },
  {
   "cell_type": "markdown",
   "metadata": {},
   "source": [
    "### more customers has bad credit score"
   ]
  },
  {
   "cell_type": "code",
   "execution_count": 51,
   "metadata": {},
   "outputs": [
    {
     "name": "stderr",
     "output_type": "stream",
     "text": [
      "C:\\ProgramData\\Anaconda3\\lib\\site-packages\\seaborn\\_decorators.py:36: FutureWarning: Pass the following variable as a keyword arg: x. From version 0.12, the only valid positional argument will be `data`, and passing other arguments without an explicit keyword will result in an error or misinterpretation.\n",
      "  warnings.warn(\n"
     ]
    },
    {
     "data": {
      "text/plain": [
       "<AxesSubplot:xlabel='Credit_Category', ylabel='count'>"
      ]
     },
     "execution_count": 51,
     "metadata": {},
     "output_type": "execute_result"
    },
    {
     "data": {
      "image/png": "[encoded data removed]",
      "text/plain": [
       "<Figure size 432x288 with 1 Axes>"
      ]
     },
     "metadata": {
      "needs_background": "light"
     },
     "output_type": "display_data"
    }
   ],
   "source": [
    "sns.countplot(df['Credit_Category'], hue=df['Is_Churn'])"
   ]
  },
  {
   "cell_type": "markdown",
   "metadata": {},
   "source": [
    "### as expected customer churn rate is high with poor credit score"
   ]
  },
  {
   "cell_type": "code",
   "execution_count": 52,
   "metadata": {},
   "outputs": [],
   "source": [
    "# we will keep this variable\n",
    "final_feature.append('Credit_Category')"
   ]
  },
  {
   "cell_type": "markdown",
   "metadata": {},
   "source": [
    "### Age_Group"
   ]
  },
  {
   "cell_type": "code",
   "execution_count": 53,
   "metadata": {},
   "outputs": [
    {
     "name": "stderr",
     "output_type": "stream",
     "text": [
      "C:\\ProgramData\\Anaconda3\\lib\\site-packages\\seaborn\\_decorators.py:36: FutureWarning: Pass the following variable as a keyword arg: x. From version 0.12, the only valid positional argument will be `data`, and passing other arguments without an explicit keyword will result in an error or misinterpretation.\n",
      "  warnings.warn(\n"
     ]
    },
    {
     "data": {
      "text/plain": [
       "<AxesSubplot:xlabel='Age_group', ylabel='count'>"
      ]
     },
     "execution_count": 53,
     "metadata": {},
     "output_type": "execute_result"
    },
    {
     "data": {
      "image/png": "[encoded data removed]",
      "text/plain": [
       "<Figure size 432x288 with 1 Axes>"
      ]
     },
     "metadata": {
      "needs_background": "light"
     },
     "output_type": "display_data"
    }
   ],
   "source": [
    "sns.countplot(df['Age_group'])"
   ]
  },
  {
   "cell_type": "code",
   "execution_count": 54,
   "metadata": {},
   "outputs": [
    {
     "name": "stderr",
     "output_type": "stream",
     "text": [
      "C:\\ProgramData\\Anaconda3\\lib\\site-packages\\seaborn\\_decorators.py:36: FutureWarning: Pass the following variable as a keyword arg: x. From version 0.12, the only valid positional argument will be `data`, and passing other arguments without an explicit keyword will result in an error or misinterpretation.\n",
      "  warnings.warn(\n"
     ]
    },
    {
     "data": {
      "text/plain": [
       "<AxesSubplot:xlabel='Age_group', ylabel='count'>"
      ]
     },
     "execution_count": 54,
     "metadata": {},
     "output_type": "execute_result"
    },
    {
     "data": {
      "image/png": "[encoded data removed]",
      "text/plain": [
       "<Figure size 432x288 with 1 Axes>"
      ]
     },
     "metadata": {
      "needs_background": "light"
     },
     "output_type": "display_data"
    }
   ],
   "source": [
    "sns.countplot(df['Age_group'],hue=df['Is_Churn'])"
   ]
  },
  {
   "cell_type": "code",
   "execution_count": 55,
   "metadata": {},
   "outputs": [
    {
     "data": {
      "text/html": [
       "<div>\n",
       "<style scoped>\n",
       "    .dataframe tbody tr th:only-of-type {\n",
       "        vertical-align: middle;\n",
       "    }\n",
       "\n",
       "    .dataframe tbody tr th {\n",
       "        vertical-align: top;\n",
       "    }\n",
       "\n",
       "    .dataframe thead th {\n",
       "        text-align: right;\n",
       "    }\n",
       "</style>\n",
       "<table border=\"1\" class=\"dataframe\">\n",
       "  <thead>\n",
       "    <tr style=\"text-align: right;\">\n",
       "      <th></th>\n",
       "      <th>Is_Churn</th>\n",
       "    </tr>\n",
       "    <tr>\n",
       "      <th>Age_group</th>\n",
       "      <th></th>\n",
       "    </tr>\n",
       "  </thead>\n",
       "  <tbody>\n",
       "    <tr>\n",
       "      <th>21 - 31</th>\n",
       "      <td>0.100342</td>\n",
       "    </tr>\n",
       "    <tr>\n",
       "      <th>31 - 41</th>\n",
       "      <td>0.192103</td>\n",
       "    </tr>\n",
       "    <tr>\n",
       "      <th>41 - 51</th>\n",
       "      <td>0.256215</td>\n",
       "    </tr>\n",
       "    <tr>\n",
       "      <th>51 - 61</th>\n",
       "      <td>0.355801</td>\n",
       "    </tr>\n",
       "    <tr>\n",
       "      <th>61 - 71</th>\n",
       "      <td>0.440000</td>\n",
       "    </tr>\n",
       "    <tr>\n",
       "      <th>71 - 81</th>\n",
       "      <td>0.461538</td>\n",
       "    </tr>\n",
       "  </tbody>\n",
       "</table>\n",
       "</div>"
      ],
      "text/plain": [
       "           Is_Churn\n",
       "Age_group          \n",
       "21 - 31    0.100342\n",
       "31 - 41    0.192103\n",
       "41 - 51    0.256215\n",
       "51 - 61    0.355801\n",
       "61 - 71    0.440000\n",
       "71 - 81    0.461538"
      ]
     },
     "execution_count": 55,
     "metadata": {},
     "output_type": "execute_result"
    }
   ],
   "source": [
    "table = pd.pivot_table(df, values='Is_Churn', index=['Age_group'], aggfunc=np.mean)\n",
    "table"
   ]
  },
  {
   "cell_type": "markdown",
   "metadata": {},
   "source": [
    "### Churn rate is increasing as Age_group is increasing"
   ]
  },
  {
   "cell_type": "code",
   "execution_count": 56,
   "metadata": {},
   "outputs": [],
   "source": [
    "final_feature.append('Age_group')"
   ]
  },
  {
   "cell_type": "markdown",
   "metadata": {},
   "source": [
    "### Continuous variable"
   ]
  },
  {
   "cell_type": "markdown",
   "metadata": {},
   "source": [
    "### Balance"
   ]
  },
  {
   "cell_type": "code",
   "execution_count": 57,
   "metadata": {},
   "outputs": [
    {
     "data": {
      "text/plain": [
       "63.0"
      ]
     },
     "execution_count": 57,
     "metadata": {},
     "output_type": "execute_result"
    }
   ],
   "source": [
    "min(df['Balance'])"
   ]
  },
  {
   "cell_type": "code",
   "execution_count": 58,
   "metadata": {},
   "outputs": [
    {
     "data": {
      "text/plain": [
       "2436615.81"
      ]
     },
     "execution_count": 58,
     "metadata": {},
     "output_type": "execute_result"
    }
   ],
   "source": [
    "max(df['Balance'])"
   ]
  },
  {
   "cell_type": "code",
   "execution_count": 59,
   "metadata": {},
   "outputs": [
    {
     "name": "stderr",
     "output_type": "stream",
     "text": [
      "C:\\ProgramData\\Anaconda3\\lib\\site-packages\\seaborn\\distributions.py:2551: FutureWarning: `distplot` is a deprecated function and will be removed in a future version. Please adapt your code to use either `displot` (a figure-level function with similar flexibility) or `histplot` (an axes-level function for histograms).\n",
      "  warnings.warn(msg, FutureWarning)\n"
     ]
    },
    {
     "data": {
      "text/plain": [
       "<AxesSubplot:xlabel='Balance', ylabel='Density'>"
      ]
     },
     "execution_count": 59,
     "metadata": {},
     "output_type": "execute_result"
    },
    {
     "data": {
      "image/png": "[encoded data removed]",
      "text/plain": [
       "<Figure size 432x288 with 1 Axes>"
      ]
     },
     "metadata": {
      "needs_background": "light"
     },
     "output_type": "display_data"
    }
   ],
   "source": [
    "sns.distplot(df['Balance'])"
   ]
  },
  {
   "cell_type": "markdown",
   "metadata": {},
   "source": [
    "### most of the customer has average quaterly balance 5lakh to 10lakh"
   ]
  },
  {
   "cell_type": "code",
   "execution_count": 60,
   "metadata": {},
   "outputs": [
    {
     "data": {
      "text/html": [
       "<div>\n",
       "<style scoped>\n",
       "    .dataframe tbody tr th:only-of-type {\n",
       "        vertical-align: middle;\n",
       "    }\n",
       "\n",
       "    .dataframe tbody tr th {\n",
       "        vertical-align: top;\n",
       "    }\n",
       "\n",
       "    .dataframe thead th {\n",
       "        text-align: right;\n",
       "    }\n",
       "</style>\n",
       "<table border=\"1\" class=\"dataframe\">\n",
       "  <thead>\n",
       "    <tr style=\"text-align: right;\">\n",
       "      <th></th>\n",
       "      <th>Balance</th>\n",
       "    </tr>\n",
       "    <tr>\n",
       "      <th>Income</th>\n",
       "      <th></th>\n",
       "    </tr>\n",
       "  </thead>\n",
       "  <tbody>\n",
       "    <tr>\n",
       "      <th>10L - 15L</th>\n",
       "      <td>823803.806531</td>\n",
       "    </tr>\n",
       "    <tr>\n",
       "      <th>5L - 10L</th>\n",
       "      <td>782171.957656</td>\n",
       "    </tr>\n",
       "    <tr>\n",
       "      <th>Less than 5L</th>\n",
       "      <td>784419.132473</td>\n",
       "    </tr>\n",
       "    <tr>\n",
       "      <th>More than 15L</th>\n",
       "      <td>832063.965926</td>\n",
       "    </tr>\n",
       "  </tbody>\n",
       "</table>\n",
       "</div>"
      ],
      "text/plain": [
       "                     Balance\n",
       "Income                      \n",
       "10L - 15L      823803.806531\n",
       "5L - 10L       782171.957656\n",
       "Less than 5L   784419.132473\n",
       "More than 15L  832063.965926"
      ]
     },
     "execution_count": 60,
     "metadata": {},
     "output_type": "execute_result"
    }
   ],
   "source": [
    "df[['Balance','Income']].groupby('Income').mean()"
   ]
  },
  {
   "cell_type": "markdown",
   "metadata": {},
   "source": [
    "- customers with less than 10L has average quarterly balance 7.8 lakh and income greater than 10L has quaeterly balance 8 lakh"
   ]
  },
  {
   "cell_type": "code",
   "execution_count": 61,
   "metadata": {},
   "outputs": [],
   "source": [
    "#and income alone is not showing much info, so i will create a new col as \n",
    "#modified income category, where i will keep only two category as greater than 10L and less than 10L\n",
    "df['Income_Modified']=df['Income'].replace({'Less than 5L':'Less than 10L','5L - 10L':'Less than 10L','10L - 15L':'Greater than 10L','More than 15L':'Greater than 10L'})"
   ]
  },
  {
   "cell_type": "code",
   "execution_count": 62,
   "metadata": {},
   "outputs": [
    {
     "data": {
      "text/html": [
       "<div>\n",
       "<style scoped>\n",
       "    .dataframe tbody tr th:only-of-type {\n",
       "        vertical-align: middle;\n",
       "    }\n",
       "\n",
       "    .dataframe tbody tr th {\n",
       "        vertical-align: top;\n",
       "    }\n",
       "\n",
       "    .dataframe thead th {\n",
       "        text-align: right;\n",
       "    }\n",
       "</style>\n",
       "<table border=\"1\" class=\"dataframe\">\n",
       "  <thead>\n",
       "    <tr style=\"text-align: right;\">\n",
       "      <th></th>\n",
       "      <th>ID</th>\n",
       "      <th>Age</th>\n",
       "      <th>Gender</th>\n",
       "      <th>Income</th>\n",
       "      <th>Balance</th>\n",
       "      <th>Vintage</th>\n",
       "      <th>Transaction_Status</th>\n",
       "      <th>Product_Holdings</th>\n",
       "      <th>Credit_Card</th>\n",
       "      <th>Credit_Category</th>\n",
       "      <th>Is_Churn</th>\n",
       "      <th>Age_group</th>\n",
       "      <th>Income_Modified</th>\n",
       "    </tr>\n",
       "  </thead>\n",
       "  <tbody>\n",
       "    <tr>\n",
       "      <th>0</th>\n",
       "      <td>84e2fcc9</td>\n",
       "      <td>36</td>\n",
       "      <td>Female</td>\n",
       "      <td>5L - 10L</td>\n",
       "      <td>563266.44</td>\n",
       "      <td>4</td>\n",
       "      <td>0</td>\n",
       "      <td>1</td>\n",
       "      <td>0</td>\n",
       "      <td>Average</td>\n",
       "      <td>1</td>\n",
       "      <td>31 - 41</td>\n",
       "      <td>Less than 10L</td>\n",
       "    </tr>\n",
       "    <tr>\n",
       "      <th>1</th>\n",
       "      <td>57fea15e</td>\n",
       "      <td>53</td>\n",
       "      <td>Female</td>\n",
       "      <td>Less than 5L</td>\n",
       "      <td>875572.11</td>\n",
       "      <td>2</td>\n",
       "      <td>1</td>\n",
       "      <td>1</td>\n",
       "      <td>1</td>\n",
       "      <td>Poor</td>\n",
       "      <td>0</td>\n",
       "      <td>51 - 61</td>\n",
       "      <td>Less than 10L</td>\n",
       "    </tr>\n",
       "    <tr>\n",
       "      <th>2</th>\n",
       "      <td>8df34ef3</td>\n",
       "      <td>35</td>\n",
       "      <td>Female</td>\n",
       "      <td>More than 15L</td>\n",
       "      <td>701607.06</td>\n",
       "      <td>2</td>\n",
       "      <td>1</td>\n",
       "      <td>2</td>\n",
       "      <td>0</td>\n",
       "      <td>Poor</td>\n",
       "      <td>0</td>\n",
       "      <td>31 - 41</td>\n",
       "      <td>Greater than 10L</td>\n",
       "    </tr>\n",
       "    <tr>\n",
       "      <th>3</th>\n",
       "      <td>c5c0788b</td>\n",
       "      <td>43</td>\n",
       "      <td>Female</td>\n",
       "      <td>More than 15L</td>\n",
       "      <td>1393922.16</td>\n",
       "      <td>0</td>\n",
       "      <td>1</td>\n",
       "      <td>2</td>\n",
       "      <td>1</td>\n",
       "      <td>Poor</td>\n",
       "      <td>1</td>\n",
       "      <td>41 - 51</td>\n",
       "      <td>Greater than 10L</td>\n",
       "    </tr>\n",
       "    <tr>\n",
       "      <th>4</th>\n",
       "      <td>951d69c4</td>\n",
       "      <td>39</td>\n",
       "      <td>Female</td>\n",
       "      <td>More than 15L</td>\n",
       "      <td>893146.23</td>\n",
       "      <td>1</td>\n",
       "      <td>1</td>\n",
       "      <td>1</td>\n",
       "      <td>1</td>\n",
       "      <td>Good</td>\n",
       "      <td>1</td>\n",
       "      <td>31 - 41</td>\n",
       "      <td>Greater than 10L</td>\n",
       "    </tr>\n",
       "  </tbody>\n",
       "</table>\n",
       "</div>"
      ],
      "text/plain": [
       "         ID  Age  Gender         Income     Balance  Vintage  \\\n",
       "0  84e2fcc9   36  Female       5L - 10L   563266.44        4   \n",
       "1  57fea15e   53  Female   Less than 5L   875572.11        2   \n",
       "2  8df34ef3   35  Female  More than 15L   701607.06        2   \n",
       "3  c5c0788b   43  Female  More than 15L  1393922.16        0   \n",
       "4  951d69c4   39  Female  More than 15L   893146.23        1   \n",
       "\n",
       "   Transaction_Status Product_Holdings  Credit_Card Credit_Category  Is_Churn  \\\n",
       "0                   0                1            0         Average         1   \n",
       "1                   1                1            1            Poor         0   \n",
       "2                   1                2            0            Poor         0   \n",
       "3                   1                2            1            Poor         1   \n",
       "4                   1                1            1            Good         1   \n",
       "\n",
       "  Age_group   Income_Modified  \n",
       "0   31 - 41     Less than 10L  \n",
       "1   51 - 61     Less than 10L  \n",
       "2   31 - 41  Greater than 10L  \n",
       "3   41 - 51  Greater than 10L  \n",
       "4   31 - 41  Greater than 10L  "
      ]
     },
     "execution_count": 62,
     "metadata": {},
     "output_type": "execute_result"
    }
   ],
   "source": [
    "df.head()"
   ]
  },
  {
   "cell_type": "code",
   "execution_count": 63,
   "metadata": {},
   "outputs": [
    {
     "data": {
      "text/html": [
       "<div>\n",
       "<style scoped>\n",
       "    .dataframe tbody tr th:only-of-type {\n",
       "        vertical-align: middle;\n",
       "    }\n",
       "\n",
       "    .dataframe tbody tr th {\n",
       "        vertical-align: top;\n",
       "    }\n",
       "\n",
       "    .dataframe thead th {\n",
       "        text-align: right;\n",
       "    }\n",
       "</style>\n",
       "<table border=\"1\" class=\"dataframe\">\n",
       "  <thead>\n",
       "    <tr style=\"text-align: right;\">\n",
       "      <th></th>\n",
       "      <th>Balance</th>\n",
       "    </tr>\n",
       "    <tr>\n",
       "      <th>Income_Modified</th>\n",
       "      <th></th>\n",
       "    </tr>\n",
       "  </thead>\n",
       "  <tbody>\n",
       "    <tr>\n",
       "      <th>Greater than 10L</th>\n",
       "      <td>827243.408508</td>\n",
       "    </tr>\n",
       "    <tr>\n",
       "      <th>Less than 10L</th>\n",
       "      <td>783205.526658</td>\n",
       "    </tr>\n",
       "  </tbody>\n",
       "</table>\n",
       "</div>"
      ],
      "text/plain": [
       "                        Balance\n",
       "Income_Modified                \n",
       "Greater than 10L  827243.408508\n",
       "Less than 10L     783205.526658"
      ]
     },
     "execution_count": 63,
     "metadata": {},
     "output_type": "execute_result"
    }
   ],
   "source": [
    "#After Modification\n",
    "df[['Balance','Income_Modified']].groupby('Income_Modified').mean()"
   ]
  },
  {
   "cell_type": "code",
   "execution_count": 66,
   "metadata": {},
   "outputs": [
    {
     "data": {
      "text/html": [
       "<div>\n",
       "<style scoped>\n",
       "    .dataframe tbody tr th:only-of-type {\n",
       "        vertical-align: middle;\n",
       "    }\n",
       "\n",
       "    .dataframe tbody tr th {\n",
       "        vertical-align: top;\n",
       "    }\n",
       "\n",
       "    .dataframe thead th {\n",
       "        text-align: right;\n",
       "    }\n",
       "</style>\n",
       "<table border=\"1\" class=\"dataframe\">\n",
       "  <thead>\n",
       "    <tr style=\"text-align: right;\">\n",
       "      <th></th>\n",
       "      <th>Is_Churn</th>\n",
       "    </tr>\n",
       "    <tr>\n",
       "      <th>Income_Modified</th>\n",
       "      <th></th>\n",
       "    </tr>\n",
       "  </thead>\n",
       "  <tbody>\n",
       "    <tr>\n",
       "      <th>Greater than 10L</th>\n",
       "      <td>0.238700</td>\n",
       "    </tr>\n",
       "    <tr>\n",
       "      <th>Less than 10L</th>\n",
       "      <td>0.223977</td>\n",
       "    </tr>\n",
       "  </tbody>\n",
       "</table>\n",
       "</div>"
      ],
      "text/plain": [
       "                  Is_Churn\n",
       "Income_Modified           \n",
       "Greater than 10L  0.238700\n",
       "Less than 10L     0.223977"
      ]
     },
     "execution_count": 66,
     "metadata": {},
     "output_type": "execute_result"
    }
   ],
   "source": [
    "#let's see any difference with churn rate\n",
    "table = pd.pivot_table(df, values='Is_Churn', index=['Income_Modified'],aggfunc=np.mean)\n",
    "table"
   ]
  },
  {
   "cell_type": "code",
   "execution_count": 67,
   "metadata": {},
   "outputs": [],
   "source": [
    "#still no difference"
   ]
  },
  {
   "cell_type": "code",
   "execution_count": 68,
   "metadata": {},
   "outputs": [
    {
     "data": {
      "text/html": [
       "<div>\n",
       "<style scoped>\n",
       "    .dataframe tbody tr th:only-of-type {\n",
       "        vertical-align: middle;\n",
       "    }\n",
       "\n",
       "    .dataframe tbody tr th {\n",
       "        vertical-align: top;\n",
       "    }\n",
       "\n",
       "    .dataframe thead th {\n",
       "        text-align: right;\n",
       "    }\n",
       "</style>\n",
       "<table border=\"1\" class=\"dataframe\">\n",
       "  <thead>\n",
       "    <tr style=\"text-align: right;\">\n",
       "      <th></th>\n",
       "      <th>Is_Churn</th>\n",
       "    </tr>\n",
       "    <tr>\n",
       "      <th>Income</th>\n",
       "      <th></th>\n",
       "    </tr>\n",
       "  </thead>\n",
       "  <tbody>\n",
       "    <tr>\n",
       "      <th>10L - 15L</th>\n",
       "      <td>0.235544</td>\n",
       "    </tr>\n",
       "    <tr>\n",
       "      <th>5L - 10L</th>\n",
       "      <td>0.223064</td>\n",
       "    </tr>\n",
       "    <tr>\n",
       "      <th>Less than 5L</th>\n",
       "      <td>0.225048</td>\n",
       "    </tr>\n",
       "    <tr>\n",
       "      <th>More than 15L</th>\n",
       "      <td>0.243123</td>\n",
       "    </tr>\n",
       "  </tbody>\n",
       "</table>\n",
       "</div>"
      ],
      "text/plain": [
       "               Is_Churn\n",
       "Income                 \n",
       "10L - 15L      0.235544\n",
       "5L - 10L       0.223064\n",
       "Less than 5L   0.225048\n",
       "More than 15L  0.243123"
      ]
     },
     "execution_count": 68,
     "metadata": {},
     "output_type": "execute_result"
    }
   ],
   "source": [
    "#let's see any difference with churn rate\n",
    "table = pd.pivot_table(df, values='Is_Churn', index=['Income'],aggfunc=np.mean)\n",
    "table"
   ]
  },
  {
   "cell_type": "code",
   "execution_count": 69,
   "metadata": {},
   "outputs": [
    {
     "data": {
      "text/html": [
       "<div>\n",
       "<style scoped>\n",
       "    .dataframe tbody tr th:only-of-type {\n",
       "        vertical-align: middle;\n",
       "    }\n",
       "\n",
       "    .dataframe tbody tr th {\n",
       "        vertical-align: top;\n",
       "    }\n",
       "\n",
       "    .dataframe thead th {\n",
       "        text-align: right;\n",
       "    }\n",
       "</style>\n",
       "<table border=\"1\" class=\"dataframe\">\n",
       "  <thead>\n",
       "    <tr style=\"text-align: right;\">\n",
       "      <th></th>\n",
       "      <th>Balance</th>\n",
       "    </tr>\n",
       "    <tr>\n",
       "      <th>Is_Churn</th>\n",
       "      <th></th>\n",
       "    </tr>\n",
       "  </thead>\n",
       "  <tbody>\n",
       "    <tr>\n",
       "      <th>0</th>\n",
       "      <td>788653.739642</td>\n",
       "    </tr>\n",
       "    <tr>\n",
       "      <th>1</th>\n",
       "      <td>857626.896461</td>\n",
       "    </tr>\n",
       "  </tbody>\n",
       "</table>\n",
       "</div>"
      ],
      "text/plain": [
       "                Balance\n",
       "Is_Churn               \n",
       "0         788653.739642\n",
       "1         857626.896461"
      ]
     },
     "execution_count": 69,
     "metadata": {},
     "output_type": "execute_result"
    }
   ],
   "source": [
    "df[['Balance','Is_Churn']].groupby('Is_Churn').mean()"
   ]
  },
  {
   "cell_type": "markdown",
   "metadata": {},
   "source": [
    "### Customers with high balance are more likely to churn"
   ]
  },
  {
   "cell_type": "code",
   "execution_count": 70,
   "metadata": {},
   "outputs": [],
   "source": [
    "#we will keep balance feature also\n",
    "final_feature.append(\"Balance\")"
   ]
  },
  {
   "cell_type": "code",
   "execution_count": 71,
   "metadata": {},
   "outputs": [
    {
     "data": {
      "text/plain": [
       "['Gender',\n",
       " 'Vintage',\n",
       " 'Transaction_Status',\n",
       " 'Product_Holdings',\n",
       " 'Credit_Category',\n",
       " 'Age_group',\n",
       " 'Balance']"
      ]
     },
     "execution_count": 71,
     "metadata": {},
     "output_type": "execute_result"
    }
   ],
   "source": [
    "final_feature"
   ]
  },
  {
   "cell_type": "code",
   "execution_count": 72,
   "metadata": {},
   "outputs": [
    {
     "data": {
      "text/html": [
       "<div>\n",
       "<style scoped>\n",
       "    .dataframe tbody tr th:only-of-type {\n",
       "        vertical-align: middle;\n",
       "    }\n",
       "\n",
       "    .dataframe tbody tr th {\n",
       "        vertical-align: top;\n",
       "    }\n",
       "\n",
       "    .dataframe thead th {\n",
       "        text-align: right;\n",
       "    }\n",
       "</style>\n",
       "<table border=\"1\" class=\"dataframe\">\n",
       "  <thead>\n",
       "    <tr style=\"text-align: right;\">\n",
       "      <th></th>\n",
       "      <th>ID</th>\n",
       "      <th>Age</th>\n",
       "      <th>Gender</th>\n",
       "      <th>Income</th>\n",
       "      <th>Balance</th>\n",
       "      <th>Vintage</th>\n",
       "      <th>Transaction_Status</th>\n",
       "      <th>Product_Holdings</th>\n",
       "      <th>Credit_Card</th>\n",
       "      <th>Credit_Category</th>\n",
       "      <th>Is_Churn</th>\n",
       "      <th>Age_group</th>\n",
       "      <th>Income_Modified</th>\n",
       "    </tr>\n",
       "  </thead>\n",
       "  <tbody>\n",
       "    <tr>\n",
       "      <th>0</th>\n",
       "      <td>84e2fcc9</td>\n",
       "      <td>36</td>\n",
       "      <td>Female</td>\n",
       "      <td>5L - 10L</td>\n",
       "      <td>563266.44</td>\n",
       "      <td>4</td>\n",
       "      <td>0</td>\n",
       "      <td>1</td>\n",
       "      <td>0</td>\n",
       "      <td>Average</td>\n",
       "      <td>1</td>\n",
       "      <td>31 - 41</td>\n",
       "      <td>Less than 10L</td>\n",
       "    </tr>\n",
       "    <tr>\n",
       "      <th>1</th>\n",
       "      <td>57fea15e</td>\n",
       "      <td>53</td>\n",
       "      <td>Female</td>\n",
       "      <td>Less than 5L</td>\n",
       "      <td>875572.11</td>\n",
       "      <td>2</td>\n",
       "      <td>1</td>\n",
       "      <td>1</td>\n",
       "      <td>1</td>\n",
       "      <td>Poor</td>\n",
       "      <td>0</td>\n",
       "      <td>51 - 61</td>\n",
       "      <td>Less than 10L</td>\n",
       "    </tr>\n",
       "    <tr>\n",
       "      <th>2</th>\n",
       "      <td>8df34ef3</td>\n",
       "      <td>35</td>\n",
       "      <td>Female</td>\n",
       "      <td>More than 15L</td>\n",
       "      <td>701607.06</td>\n",
       "      <td>2</td>\n",
       "      <td>1</td>\n",
       "      <td>2</td>\n",
       "      <td>0</td>\n",
       "      <td>Poor</td>\n",
       "      <td>0</td>\n",
       "      <td>31 - 41</td>\n",
       "      <td>Greater than 10L</td>\n",
       "    </tr>\n",
       "    <tr>\n",
       "      <th>3</th>\n",
       "      <td>c5c0788b</td>\n",
       "      <td>43</td>\n",
       "      <td>Female</td>\n",
       "      <td>More than 15L</td>\n",
       "      <td>1393922.16</td>\n",
       "      <td>0</td>\n",
       "      <td>1</td>\n",
       "      <td>2</td>\n",
       "      <td>1</td>\n",
       "      <td>Poor</td>\n",
       "      <td>1</td>\n",
       "      <td>41 - 51</td>\n",
       "      <td>Greater than 10L</td>\n",
       "    </tr>\n",
       "    <tr>\n",
       "      <th>4</th>\n",
       "      <td>951d69c4</td>\n",
       "      <td>39</td>\n",
       "      <td>Female</td>\n",
       "      <td>More than 15L</td>\n",
       "      <td>893146.23</td>\n",
       "      <td>1</td>\n",
       "      <td>1</td>\n",
       "      <td>1</td>\n",
       "      <td>1</td>\n",
       "      <td>Good</td>\n",
       "      <td>1</td>\n",
       "      <td>31 - 41</td>\n",
       "      <td>Greater than 10L</td>\n",
       "    </tr>\n",
       "  </tbody>\n",
       "</table>\n",
       "</div>"
      ],
      "text/plain": [
       "         ID  Age  Gender         Income     Balance  Vintage  \\\n",
       "0  84e2fcc9   36  Female       5L - 10L   563266.44        4   \n",
       "1  57fea15e   53  Female   Less than 5L   875572.11        2   \n",
       "2  8df34ef3   35  Female  More than 15L   701607.06        2   \n",
       "3  c5c0788b   43  Female  More than 15L  1393922.16        0   \n",
       "4  951d69c4   39  Female  More than 15L   893146.23        1   \n",
       "\n",
       "   Transaction_Status Product_Holdings  Credit_Card Credit_Category  Is_Churn  \\\n",
       "0                   0                1            0         Average         1   \n",
       "1                   1                1            1            Poor         0   \n",
       "2                   1                2            0            Poor         0   \n",
       "3                   1                2            1            Poor         1   \n",
       "4                   1                1            1            Good         1   \n",
       "\n",
       "  Age_group   Income_Modified  \n",
       "0   31 - 41     Less than 10L  \n",
       "1   51 - 61     Less than 10L  \n",
       "2   31 - 41  Greater than 10L  \n",
       "3   41 - 51  Greater than 10L  \n",
       "4   31 - 41  Greater than 10L  "
      ]
     },
     "execution_count": 72,
     "metadata": {},
     "output_type": "execute_result"
    }
   ],
   "source": [
    "df.head()"
   ]
  },
  {
   "cell_type": "code",
   "execution_count": 73,
   "metadata": {},
   "outputs": [
    {
     "data": {
      "text/html": [
       "<div>\n",
       "<style scoped>\n",
       "    .dataframe tbody tr th:only-of-type {\n",
       "        vertical-align: middle;\n",
       "    }\n",
       "\n",
       "    .dataframe tbody tr th {\n",
       "        vertical-align: top;\n",
       "    }\n",
       "\n",
       "    .dataframe thead th {\n",
       "        text-align: right;\n",
       "    }\n",
       "</style>\n",
       "<table border=\"1\" class=\"dataframe\">\n",
       "  <thead>\n",
       "    <tr style=\"text-align: right;\">\n",
       "      <th></th>\n",
       "      <th>Gender</th>\n",
       "      <th>Balance</th>\n",
       "      <th>Vintage</th>\n",
       "      <th>Transaction_Status</th>\n",
       "      <th>Product_Holdings</th>\n",
       "      <th>Credit_Category</th>\n",
       "      <th>Is_Churn</th>\n",
       "      <th>Age_group</th>\n",
       "    </tr>\n",
       "  </thead>\n",
       "  <tbody>\n",
       "    <tr>\n",
       "      <th>0</th>\n",
       "      <td>Female</td>\n",
       "      <td>563266.44</td>\n",
       "      <td>4</td>\n",
       "      <td>0</td>\n",
       "      <td>1</td>\n",
       "      <td>Average</td>\n",
       "      <td>1</td>\n",
       "      <td>31 - 41</td>\n",
       "    </tr>\n",
       "    <tr>\n",
       "      <th>1</th>\n",
       "      <td>Female</td>\n",
       "      <td>875572.11</td>\n",
       "      <td>2</td>\n",
       "      <td>1</td>\n",
       "      <td>1</td>\n",
       "      <td>Poor</td>\n",
       "      <td>0</td>\n",
       "      <td>51 - 61</td>\n",
       "    </tr>\n",
       "    <tr>\n",
       "      <th>2</th>\n",
       "      <td>Female</td>\n",
       "      <td>701607.06</td>\n",
       "      <td>2</td>\n",
       "      <td>1</td>\n",
       "      <td>2</td>\n",
       "      <td>Poor</td>\n",
       "      <td>0</td>\n",
       "      <td>31 - 41</td>\n",
       "    </tr>\n",
       "    <tr>\n",
       "      <th>3</th>\n",
       "      <td>Female</td>\n",
       "      <td>1393922.16</td>\n",
       "      <td>0</td>\n",
       "      <td>1</td>\n",
       "      <td>2</td>\n",
       "      <td>Poor</td>\n",
       "      <td>1</td>\n",
       "      <td>41 - 51</td>\n",
       "    </tr>\n",
       "    <tr>\n",
       "      <th>4</th>\n",
       "      <td>Female</td>\n",
       "      <td>893146.23</td>\n",
       "      <td>1</td>\n",
       "      <td>1</td>\n",
       "      <td>1</td>\n",
       "      <td>Good</td>\n",
       "      <td>1</td>\n",
       "      <td>31 - 41</td>\n",
       "    </tr>\n",
       "  </tbody>\n",
       "</table>\n",
       "</div>"
      ],
      "text/plain": [
       "   Gender     Balance  Vintage  Transaction_Status Product_Holdings  \\\n",
       "0  Female   563266.44        4                   0                1   \n",
       "1  Female   875572.11        2                   1                1   \n",
       "2  Female   701607.06        2                   1                2   \n",
       "3  Female  1393922.16        0                   1                2   \n",
       "4  Female   893146.23        1                   1                1   \n",
       "\n",
       "  Credit_Category  Is_Churn Age_group  \n",
       "0         Average         1   31 - 41  \n",
       "1            Poor         0   51 - 61  \n",
       "2            Poor         0   31 - 41  \n",
       "3            Poor         1   41 - 51  \n",
       "4            Good         1   31 - 41  "
      ]
     },
     "execution_count": 73,
     "metadata": {},
     "output_type": "execute_result"
    }
   ],
   "source": [
    "#let's drop all the exclude variables\n",
    "final_df=df.drop(['ID','Age','Income','Credit_Card','Income_Modified'],axis=1)\n",
    "final_df.head()"
   ]
  },
  {
   "cell_type": "markdown",
   "metadata": {},
   "source": [
    "### Encoding the variables"
   ]
  },
  {
   "cell_type": "code",
   "execution_count": 74,
   "metadata": {},
   "outputs": [],
   "source": [
    "from sklearn.preprocessing import LabelEncoder, OneHotEncoder\n",
    "from sklearn.preprocessing import StandardScaler"
   ]
  },
  {
   "cell_type": "code",
   "execution_count": 75,
   "metadata": {},
   "outputs": [
    {
     "name": "stdout",
     "output_type": "stream",
     "text": [
      "<class 'pandas.core.frame.DataFrame'>\n",
      "RangeIndex: 6650 entries, 0 to 6649\n",
      "Data columns (total 8 columns):\n",
      " #   Column              Non-Null Count  Dtype   \n",
      "---  ------              --------------  -----   \n",
      " 0   Gender              6650 non-null   object  \n",
      " 1   Balance             6650 non-null   float64 \n",
      " 2   Vintage             6650 non-null   int64   \n",
      " 3   Transaction_Status  6650 non-null   int64   \n",
      " 4   Product_Holdings    6650 non-null   object  \n",
      " 5   Credit_Category     6650 non-null   object  \n",
      " 6   Is_Churn            6650 non-null   int64   \n",
      " 7   Age_group           6650 non-null   category\n",
      "dtypes: category(1), float64(1), int64(3), object(3)\n",
      "memory usage: 370.5+ KB\n"
     ]
    }
   ],
   "source": [
    "final_df.info()"
   ]
  },
  {
   "cell_type": "code",
   "execution_count": 99,
   "metadata": {},
   "outputs": [],
   "source": [
    "cat_features = ['Gender','Transaction_Status','Vintage','Product_Holdings','Credit_Category','Age_group']\n",
    "X=pd.get_dummies(final_df,columns=cat_features,drop_first=True)"
   ]
  },
  {
   "cell_type": "code",
   "execution_count": 100,
   "metadata": {},
   "outputs": [
    {
     "data": {
      "text/plain": [
       "(6650, 18)"
      ]
     },
     "execution_count": 100,
     "metadata": {},
     "output_type": "execute_result"
    }
   ],
   "source": [
    "X.shape"
   ]
  },
  {
   "cell_type": "code",
   "execution_count": 101,
   "metadata": {},
   "outputs": [
    {
     "data": {
      "text/html": [
       "<div>\n",
       "<style scoped>\n",
       "    .dataframe tbody tr th:only-of-type {\n",
       "        vertical-align: middle;\n",
       "    }\n",
       "\n",
       "    .dataframe tbody tr th {\n",
       "        vertical-align: top;\n",
       "    }\n",
       "\n",
       "    .dataframe thead th {\n",
       "        text-align: right;\n",
       "    }\n",
       "</style>\n",
       "<table border=\"1\" class=\"dataframe\">\n",
       "  <thead>\n",
       "    <tr style=\"text-align: right;\">\n",
       "      <th></th>\n",
       "      <th>Balance</th>\n",
       "      <th>Is_Churn</th>\n",
       "      <th>Gender_Male</th>\n",
       "      <th>Transaction_Status_1</th>\n",
       "      <th>Vintage_1</th>\n",
       "      <th>Vintage_2</th>\n",
       "      <th>Vintage_3</th>\n",
       "      <th>Vintage_4</th>\n",
       "      <th>Vintage_5</th>\n",
       "      <th>Product_Holdings_2</th>\n",
       "      <th>Product_Holdings_3+</th>\n",
       "      <th>Credit_Category_Good</th>\n",
       "      <th>Credit_Category_Poor</th>\n",
       "      <th>Age_group_31 - 41</th>\n",
       "      <th>Age_group_41 - 51</th>\n",
       "      <th>Age_group_51 - 61</th>\n",
       "      <th>Age_group_61 - 71</th>\n",
       "      <th>Age_group_71 - 81</th>\n",
       "    </tr>\n",
       "  </thead>\n",
       "  <tbody>\n",
       "    <tr>\n",
       "      <th>0</th>\n",
       "      <td>563266.44</td>\n",
       "      <td>1</td>\n",
       "      <td>0</td>\n",
       "      <td>0</td>\n",
       "      <td>0</td>\n",
       "      <td>0</td>\n",
       "      <td>0</td>\n",
       "      <td>1</td>\n",
       "      <td>0</td>\n",
       "      <td>0</td>\n",
       "      <td>0</td>\n",
       "      <td>0</td>\n",
       "      <td>0</td>\n",
       "      <td>1</td>\n",
       "      <td>0</td>\n",
       "      <td>0</td>\n",
       "      <td>0</td>\n",
       "      <td>0</td>\n",
       "    </tr>\n",
       "    <tr>\n",
       "      <th>1</th>\n",
       "      <td>875572.11</td>\n",
       "      <td>0</td>\n",
       "      <td>0</td>\n",
       "      <td>1</td>\n",
       "      <td>0</td>\n",
       "      <td>1</td>\n",
       "      <td>0</td>\n",
       "      <td>0</td>\n",
       "      <td>0</td>\n",
       "      <td>0</td>\n",
       "      <td>0</td>\n",
       "      <td>0</td>\n",
       "      <td>1</td>\n",
       "      <td>0</td>\n",
       "      <td>0</td>\n",
       "      <td>1</td>\n",
       "      <td>0</td>\n",
       "      <td>0</td>\n",
       "    </tr>\n",
       "    <tr>\n",
       "      <th>2</th>\n",
       "      <td>701607.06</td>\n",
       "      <td>0</td>\n",
       "      <td>0</td>\n",
       "      <td>1</td>\n",
       "      <td>0</td>\n",
       "      <td>1</td>\n",
       "      <td>0</td>\n",
       "      <td>0</td>\n",
       "      <td>0</td>\n",
       "      <td>1</td>\n",
       "      <td>0</td>\n",
       "      <td>0</td>\n",
       "      <td>1</td>\n",
       "      <td>1</td>\n",
       "      <td>0</td>\n",
       "      <td>0</td>\n",
       "      <td>0</td>\n",
       "      <td>0</td>\n",
       "    </tr>\n",
       "    <tr>\n",
       "      <th>3</th>\n",
       "      <td>1393922.16</td>\n",
       "      <td>1</td>\n",
       "      <td>0</td>\n",
       "      <td>1</td>\n",
       "      <td>0</td>\n",
       "      <td>0</td>\n",
       "      <td>0</td>\n",
       "      <td>0</td>\n",
       "      <td>0</td>\n",
       "      <td>1</td>\n",
       "      <td>0</td>\n",
       "      <td>0</td>\n",
       "      <td>1</td>\n",
       "      <td>0</td>\n",
       "      <td>1</td>\n",
       "      <td>0</td>\n",
       "      <td>0</td>\n",
       "      <td>0</td>\n",
       "    </tr>\n",
       "    <tr>\n",
       "      <th>4</th>\n",
       "      <td>893146.23</td>\n",
       "      <td>1</td>\n",
       "      <td>0</td>\n",
       "      <td>1</td>\n",
       "      <td>1</td>\n",
       "      <td>0</td>\n",
       "      <td>0</td>\n",
       "      <td>0</td>\n",
       "      <td>0</td>\n",
       "      <td>0</td>\n",
       "      <td>0</td>\n",
       "      <td>1</td>\n",
       "      <td>0</td>\n",
       "      <td>1</td>\n",
       "      <td>0</td>\n",
       "      <td>0</td>\n",
       "      <td>0</td>\n",
       "      <td>0</td>\n",
       "    </tr>\n",
       "  </tbody>\n",
       "</table>\n",
       "</div>"
      ],
      "text/plain": [
       "      Balance  Is_Churn  Gender_Male  Transaction_Status_1  Vintage_1  \\\n",
       "0   563266.44         1            0                     0          0   \n",
       "1   875572.11         0            0                     1          0   \n",
       "2   701607.06         0            0                     1          0   \n",
       "3  1393922.16         1            0                     1          0   \n",
       "4   893146.23         1            0                     1          1   \n",
       "\n",
       "   Vintage_2  Vintage_3  Vintage_4  Vintage_5  Product_Holdings_2  \\\n",
       "0          0          0          1          0                   0   \n",
       "1          1          0          0          0                   0   \n",
       "2          1          0          0          0                   1   \n",
       "3          0          0          0          0                   1   \n",
       "4          0          0          0          0                   0   \n",
       "\n",
       "   Product_Holdings_3+  Credit_Category_Good  Credit_Category_Poor  \\\n",
       "0                    0                     0                     0   \n",
       "1                    0                     0                     1   \n",
       "2                    0                     0                     1   \n",
       "3                    0                     0                     1   \n",
       "4                    0                     1                     0   \n",
       "\n",
       "   Age_group_31 - 41  Age_group_41 - 51  Age_group_51 - 61  Age_group_61 - 71  \\\n",
       "0                  1                  0                  0                  0   \n",
       "1                  0                  0                  1                  0   \n",
       "2                  1                  0                  0                  0   \n",
       "3                  0                  1                  0                  0   \n",
       "4                  1                  0                  0                  0   \n",
       "\n",
       "   Age_group_71 - 81  \n",
       "0                  0  \n",
       "1                  0  \n",
       "2                  0  \n",
       "3                  0  \n",
       "4                  0  "
      ]
     },
     "execution_count": 101,
     "metadata": {},
     "output_type": "execute_result"
    }
   ],
   "source": [
    "X.head()"
   ]
  },
  {
   "cell_type": "code",
   "execution_count": null,
   "metadata": {},
   "outputs": [],
   "source": []
  },
  {
   "cell_type": "markdown",
   "metadata": {},
   "source": [
    "### 9. Is churn - target variable"
   ]
  },
  {
   "cell_type": "code",
   "execution_count": 102,
   "metadata": {},
   "outputs": [
    {
     "name": "stderr",
     "output_type": "stream",
     "text": [
      "C:\\ProgramData\\Anaconda3\\lib\\site-packages\\seaborn\\_decorators.py:36: FutureWarning: Pass the following variable as a keyword arg: x. From version 0.12, the only valid positional argument will be `data`, and passing other arguments without an explicit keyword will result in an error or misinterpretation.\n",
      "  warnings.warn(\n"
     ]
    },
    {
     "data": {
      "text/plain": [
       "<AxesSubplot:xlabel='Is_Churn', ylabel='count'>"
      ]
     },
     "execution_count": 102,
     "metadata": {},
     "output_type": "execute_result"
    },
    {
     "data": {
      "image/png": "[encoded data removed]",
      "text/plain": [
       "<Figure size 432x288 with 1 Axes>"
      ]
     },
     "metadata": {
      "needs_background": "light"
     },
     "output_type": "display_data"
    }
   ],
   "source": [
    "sns.countplot(df['Is_Churn'])"
   ]
  },
  {
   "cell_type": "code",
   "execution_count": 103,
   "metadata": {},
   "outputs": [],
   "source": [
    "#we have imbalanced dataset\n",
    "#we have to do sampling\n",
    "#upsampling positive class\n",
    "X_no = X[X['Is_Churn']==0]\n",
    "X_yes = X[X['Is_Churn']==1]"
   ]
  },
  {
   "cell_type": "markdown",
   "metadata": {},
   "source": [
    "### Upsampling positive class"
   ]
  },
  {
   "cell_type": "code",
   "execution_count": 104,
   "metadata": {},
   "outputs": [
    {
     "name": "stdout",
     "output_type": "stream",
     "text": [
      "5113\n"
     ]
    }
   ],
   "source": [
    "X_yes_upsampled = X_yes.sample(n=len(X_no),replace=True, random_state=42)\n",
    "\n",
    "print(len(X_yes_upsampled))"
   ]
  },
  {
   "cell_type": "code",
   "execution_count": 105,
   "metadata": {},
   "outputs": [
    {
     "data": {
      "text/plain": [
       "0    5113\n",
       "1    1537\n",
       "Name: Is_Churn, dtype: int64"
      ]
     },
     "execution_count": 105,
     "metadata": {},
     "output_type": "execute_result"
    }
   ],
   "source": [
    "final_df['Is_Churn'].value_counts()"
   ]
  },
  {
   "cell_type": "code",
   "execution_count": 106,
   "metadata": {},
   "outputs": [
    {
     "data": {
      "text/plain": [
       "<AxesSubplot:xlabel='Is_Churn', ylabel='count'>"
      ]
     },
     "execution_count": 106,
     "metadata": {},
     "output_type": "execute_result"
    },
    {
     "data": {
      "image/png": "[encoded data removed]",
      "text/plain": [
       "<Figure size 432x288 with 1 Axes>"
      ]
     },
     "metadata": {
      "needs_background": "light"
     },
     "output_type": "display_data"
    }
   ],
   "source": [
    "#combining positive and negative class\n",
    "X_upsampled = X_no.append(X_yes_upsampled).reset_index(drop=True)\n",
    "\n",
    "sns.countplot(data=X_upsampled, x='Is_Churn')"
   ]
  },
  {
   "cell_type": "code",
   "execution_count": 107,
   "metadata": {
    "scrolled": true
   },
   "outputs": [
    {
     "data": {
      "text/html": [
       "<div>\n",
       "<style scoped>\n",
       "    .dataframe tbody tr th:only-of-type {\n",
       "        vertical-align: middle;\n",
       "    }\n",
       "\n",
       "    .dataframe tbody tr th {\n",
       "        vertical-align: top;\n",
       "    }\n",
       "\n",
       "    .dataframe thead th {\n",
       "        text-align: right;\n",
       "    }\n",
       "</style>\n",
       "<table border=\"1\" class=\"dataframe\">\n",
       "  <thead>\n",
       "    <tr style=\"text-align: right;\">\n",
       "      <th></th>\n",
       "      <th>Balance</th>\n",
       "      <th>Is_Churn</th>\n",
       "      <th>Gender_Male</th>\n",
       "      <th>Transaction_Status_1</th>\n",
       "      <th>Vintage_1</th>\n",
       "      <th>Vintage_2</th>\n",
       "      <th>Vintage_3</th>\n",
       "      <th>Vintage_4</th>\n",
       "      <th>Vintage_5</th>\n",
       "      <th>Product_Holdings_2</th>\n",
       "      <th>Product_Holdings_3+</th>\n",
       "      <th>Credit_Category_Good</th>\n",
       "      <th>Credit_Category_Poor</th>\n",
       "      <th>Age_group_31 - 41</th>\n",
       "      <th>Age_group_41 - 51</th>\n",
       "      <th>Age_group_51 - 61</th>\n",
       "      <th>Age_group_61 - 71</th>\n",
       "      <th>Age_group_71 - 81</th>\n",
       "    </tr>\n",
       "  </thead>\n",
       "  <tbody>\n",
       "    <tr>\n",
       "      <th>0</th>\n",
       "      <td>875572.11</td>\n",
       "      <td>0</td>\n",
       "      <td>0</td>\n",
       "      <td>1</td>\n",
       "      <td>0</td>\n",
       "      <td>1</td>\n",
       "      <td>0</td>\n",
       "      <td>0</td>\n",
       "      <td>0</td>\n",
       "      <td>0</td>\n",
       "      <td>0</td>\n",
       "      <td>0</td>\n",
       "      <td>1</td>\n",
       "      <td>0</td>\n",
       "      <td>0</td>\n",
       "      <td>1</td>\n",
       "      <td>0</td>\n",
       "      <td>0</td>\n",
       "    </tr>\n",
       "    <tr>\n",
       "      <th>1</th>\n",
       "      <td>701607.06</td>\n",
       "      <td>0</td>\n",
       "      <td>0</td>\n",
       "      <td>1</td>\n",
       "      <td>0</td>\n",
       "      <td>1</td>\n",
       "      <td>0</td>\n",
       "      <td>0</td>\n",
       "      <td>0</td>\n",
       "      <td>1</td>\n",
       "      <td>0</td>\n",
       "      <td>0</td>\n",
       "      <td>1</td>\n",
       "      <td>1</td>\n",
       "      <td>0</td>\n",
       "      <td>0</td>\n",
       "      <td>0</td>\n",
       "      <td>0</td>\n",
       "    </tr>\n",
       "    <tr>\n",
       "      <th>2</th>\n",
       "      <td>111026.79</td>\n",
       "      <td>0</td>\n",
       "      <td>0</td>\n",
       "      <td>1</td>\n",
       "      <td>0</td>\n",
       "      <td>0</td>\n",
       "      <td>0</td>\n",
       "      <td>1</td>\n",
       "      <td>0</td>\n",
       "      <td>0</td>\n",
       "      <td>0</td>\n",
       "      <td>1</td>\n",
       "      <td>0</td>\n",
       "      <td>1</td>\n",
       "      <td>0</td>\n",
       "      <td>0</td>\n",
       "      <td>0</td>\n",
       "      <td>0</td>\n",
       "    </tr>\n",
       "    <tr>\n",
       "      <th>3</th>\n",
       "      <td>1072102.23</td>\n",
       "      <td>0</td>\n",
       "      <td>1</td>\n",
       "      <td>1</td>\n",
       "      <td>0</td>\n",
       "      <td>1</td>\n",
       "      <td>0</td>\n",
       "      <td>0</td>\n",
       "      <td>0</td>\n",
       "      <td>1</td>\n",
       "      <td>0</td>\n",
       "      <td>0</td>\n",
       "      <td>0</td>\n",
       "      <td>0</td>\n",
       "      <td>0</td>\n",
       "      <td>1</td>\n",
       "      <td>0</td>\n",
       "      <td>0</td>\n",
       "    </tr>\n",
       "    <tr>\n",
       "      <th>4</th>\n",
       "      <td>770796.81</td>\n",
       "      <td>0</td>\n",
       "      <td>0</td>\n",
       "      <td>0</td>\n",
       "      <td>0</td>\n",
       "      <td>0</td>\n",
       "      <td>1</td>\n",
       "      <td>0</td>\n",
       "      <td>0</td>\n",
       "      <td>0</td>\n",
       "      <td>0</td>\n",
       "      <td>0</td>\n",
       "      <td>1</td>\n",
       "      <td>1</td>\n",
       "      <td>0</td>\n",
       "      <td>0</td>\n",
       "      <td>0</td>\n",
       "      <td>0</td>\n",
       "    </tr>\n",
       "  </tbody>\n",
       "</table>\n",
       "</div>"
      ],
      "text/plain": [
       "      Balance  Is_Churn  Gender_Male  Transaction_Status_1  Vintage_1  \\\n",
       "0   875572.11         0            0                     1          0   \n",
       "1   701607.06         0            0                     1          0   \n",
       "2   111026.79         0            0                     1          0   \n",
       "3  1072102.23         0            1                     1          0   \n",
       "4   770796.81         0            0                     0          0   \n",
       "\n",
       "   Vintage_2  Vintage_3  Vintage_4  Vintage_5  Product_Holdings_2  \\\n",
       "0          1          0          0          0                   0   \n",
       "1          1          0          0          0                   1   \n",
       "2          0          0          1          0                   0   \n",
       "3          1          0          0          0                   1   \n",
       "4          0          1          0          0                   0   \n",
       "\n",
       "   Product_Holdings_3+  Credit_Category_Good  Credit_Category_Poor  \\\n",
       "0                    0                     0                     1   \n",
       "1                    0                     0                     1   \n",
       "2                    0                     1                     0   \n",
       "3                    0                     0                     0   \n",
       "4                    0                     0                     1   \n",
       "\n",
       "   Age_group_31 - 41  Age_group_41 - 51  Age_group_51 - 61  Age_group_61 - 71  \\\n",
       "0                  0                  0                  1                  0   \n",
       "1                  1                  0                  0                  0   \n",
       "2                  1                  0                  0                  0   \n",
       "3                  0                  0                  1                  0   \n",
       "4                  1                  0                  0                  0   \n",
       "\n",
       "   Age_group_71 - 81  \n",
       "0                  0  \n",
       "1                  0  \n",
       "2                  0  \n",
       "3                  0  \n",
       "4                  0  "
      ]
     },
     "execution_count": 107,
     "metadata": {},
     "output_type": "execute_result"
    }
   ],
   "source": [
    "X_upsampled.head()"
   ]
  },
  {
   "cell_type": "code",
   "execution_count": 108,
   "metadata": {},
   "outputs": [],
   "source": [
    "from sklearn.preprocessing import StandardScaler\n",
    "from sklearn.linear_model import RidgeClassifier\n",
    "from sklearn.metrics import classification_report"
   ]
  },
  {
   "cell_type": "code",
   "execution_count": 109,
   "metadata": {},
   "outputs": [],
   "source": [
    "X = X_upsampled.drop('Is_Churn',axis=1)\n",
    "y = X_upsampled['Is_Churn']"
   ]
  },
  {
   "cell_type": "code",
   "execution_count": 110,
   "metadata": {},
   "outputs": [
    {
     "data": {
      "text/html": [
       "<div>\n",
       "<style scoped>\n",
       "    .dataframe tbody tr th:only-of-type {\n",
       "        vertical-align: middle;\n",
       "    }\n",
       "\n",
       "    .dataframe tbody tr th {\n",
       "        vertical-align: top;\n",
       "    }\n",
       "\n",
       "    .dataframe thead th {\n",
       "        text-align: right;\n",
       "    }\n",
       "</style>\n",
       "<table border=\"1\" class=\"dataframe\">\n",
       "  <thead>\n",
       "    <tr style=\"text-align: right;\">\n",
       "      <th></th>\n",
       "      <th>Balance</th>\n",
       "      <th>Gender_Male</th>\n",
       "      <th>Transaction_Status_1</th>\n",
       "      <th>Vintage_1</th>\n",
       "      <th>Vintage_2</th>\n",
       "      <th>Vintage_3</th>\n",
       "      <th>Vintage_4</th>\n",
       "      <th>Vintage_5</th>\n",
       "      <th>Product_Holdings_2</th>\n",
       "      <th>Product_Holdings_3+</th>\n",
       "      <th>Credit_Category_Good</th>\n",
       "      <th>Credit_Category_Poor</th>\n",
       "      <th>Age_group_31 - 41</th>\n",
       "      <th>Age_group_41 - 51</th>\n",
       "      <th>Age_group_51 - 61</th>\n",
       "      <th>Age_group_61 - 71</th>\n",
       "      <th>Age_group_71 - 81</th>\n",
       "    </tr>\n",
       "  </thead>\n",
       "  <tbody>\n",
       "    <tr>\n",
       "      <th>0</th>\n",
       "      <td>875572.11</td>\n",
       "      <td>0</td>\n",
       "      <td>1</td>\n",
       "      <td>0</td>\n",
       "      <td>1</td>\n",
       "      <td>0</td>\n",
       "      <td>0</td>\n",
       "      <td>0</td>\n",
       "      <td>0</td>\n",
       "      <td>0</td>\n",
       "      <td>0</td>\n",
       "      <td>1</td>\n",
       "      <td>0</td>\n",
       "      <td>0</td>\n",
       "      <td>1</td>\n",
       "      <td>0</td>\n",
       "      <td>0</td>\n",
       "    </tr>\n",
       "    <tr>\n",
       "      <th>1</th>\n",
       "      <td>701607.06</td>\n",
       "      <td>0</td>\n",
       "      <td>1</td>\n",
       "      <td>0</td>\n",
       "      <td>1</td>\n",
       "      <td>0</td>\n",
       "      <td>0</td>\n",
       "      <td>0</td>\n",
       "      <td>1</td>\n",
       "      <td>0</td>\n",
       "      <td>0</td>\n",
       "      <td>1</td>\n",
       "      <td>1</td>\n",
       "      <td>0</td>\n",
       "      <td>0</td>\n",
       "      <td>0</td>\n",
       "      <td>0</td>\n",
       "    </tr>\n",
       "    <tr>\n",
       "      <th>2</th>\n",
       "      <td>111026.79</td>\n",
       "      <td>0</td>\n",
       "      <td>1</td>\n",
       "      <td>0</td>\n",
       "      <td>0</td>\n",
       "      <td>0</td>\n",
       "      <td>1</td>\n",
       "      <td>0</td>\n",
       "      <td>0</td>\n",
       "      <td>0</td>\n",
       "      <td>1</td>\n",
       "      <td>0</td>\n",
       "      <td>1</td>\n",
       "      <td>0</td>\n",
       "      <td>0</td>\n",
       "      <td>0</td>\n",
       "      <td>0</td>\n",
       "    </tr>\n",
       "    <tr>\n",
       "      <th>3</th>\n",
       "      <td>1072102.23</td>\n",
       "      <td>1</td>\n",
       "      <td>1</td>\n",
       "      <td>0</td>\n",
       "      <td>1</td>\n",
       "      <td>0</td>\n",
       "      <td>0</td>\n",
       "      <td>0</td>\n",
       "      <td>1</td>\n",
       "      <td>0</td>\n",
       "      <td>0</td>\n",
       "      <td>0</td>\n",
       "      <td>0</td>\n",
       "      <td>0</td>\n",
       "      <td>1</td>\n",
       "      <td>0</td>\n",
       "      <td>0</td>\n",
       "    </tr>\n",
       "    <tr>\n",
       "      <th>4</th>\n",
       "      <td>770796.81</td>\n",
       "      <td>0</td>\n",
       "      <td>0</td>\n",
       "      <td>0</td>\n",
       "      <td>0</td>\n",
       "      <td>1</td>\n",
       "      <td>0</td>\n",
       "      <td>0</td>\n",
       "      <td>0</td>\n",
       "      <td>0</td>\n",
       "      <td>0</td>\n",
       "      <td>1</td>\n",
       "      <td>1</td>\n",
       "      <td>0</td>\n",
       "      <td>0</td>\n",
       "      <td>0</td>\n",
       "      <td>0</td>\n",
       "    </tr>\n",
       "  </tbody>\n",
       "</table>\n",
       "</div>"
      ],
      "text/plain": [
       "      Balance  Gender_Male  Transaction_Status_1  Vintage_1  Vintage_2  \\\n",
       "0   875572.11            0                     1          0          1   \n",
       "1   701607.06            0                     1          0          1   \n",
       "2   111026.79            0                     1          0          0   \n",
       "3  1072102.23            1                     1          0          1   \n",
       "4   770796.81            0                     0          0          0   \n",
       "\n",
       "   Vintage_3  Vintage_4  Vintage_5  Product_Holdings_2  Product_Holdings_3+  \\\n",
       "0          0          0          0                   0                    0   \n",
       "1          0          0          0                   1                    0   \n",
       "2          0          1          0                   0                    0   \n",
       "3          0          0          0                   1                    0   \n",
       "4          1          0          0                   0                    0   \n",
       "\n",
       "   Credit_Category_Good  Credit_Category_Poor  Age_group_31 - 41  \\\n",
       "0                     0                     1                  0   \n",
       "1                     0                     1                  1   \n",
       "2                     1                     0                  1   \n",
       "3                     0                     0                  0   \n",
       "4                     0                     1                  1   \n",
       "\n",
       "   Age_group_41 - 51  Age_group_51 - 61  Age_group_61 - 71  Age_group_71 - 81  \n",
       "0                  0                  1                  0                  0  \n",
       "1                  0                  0                  0                  0  \n",
       "2                  0                  0                  0                  0  \n",
       "3                  0                  1                  0                  0  \n",
       "4                  0                  0                  0                  0  "
      ]
     },
     "execution_count": 110,
     "metadata": {},
     "output_type": "execute_result"
    }
   ],
   "source": [
    "X.head()"
   ]
  },
  {
   "cell_type": "code",
   "execution_count": 175,
   "metadata": {},
   "outputs": [],
   "source": [
    "scaler = StandardScaler()\n",
    "X['Balance'] = scaler.fit_transform(X[['Balance']])"
   ]
  },
  {
   "cell_type": "code",
   "execution_count": 176,
   "metadata": {},
   "outputs": [
    {
     "data": {
      "text/html": [
       "<div>\n",
       "<style scoped>\n",
       "    .dataframe tbody tr th:only-of-type {\n",
       "        vertical-align: middle;\n",
       "    }\n",
       "\n",
       "    .dataframe tbody tr th {\n",
       "        vertical-align: top;\n",
       "    }\n",
       "\n",
       "    .dataframe thead th {\n",
       "        text-align: right;\n",
       "    }\n",
       "</style>\n",
       "<table border=\"1\" class=\"dataframe\">\n",
       "  <thead>\n",
       "    <tr style=\"text-align: right;\">\n",
       "      <th></th>\n",
       "      <th>Balance</th>\n",
       "      <th>Gender_Male</th>\n",
       "      <th>Transaction_Status_1</th>\n",
       "      <th>Vintage_1</th>\n",
       "      <th>Vintage_2</th>\n",
       "      <th>Vintage_3</th>\n",
       "      <th>Vintage_4</th>\n",
       "      <th>Vintage_5</th>\n",
       "      <th>Product_Holdings_2</th>\n",
       "      <th>Product_Holdings_3+</th>\n",
       "      <th>Credit_Category_Good</th>\n",
       "      <th>Credit_Category_Poor</th>\n",
       "      <th>Age_group_31 - 41</th>\n",
       "      <th>Age_group_41 - 51</th>\n",
       "      <th>Age_group_51 - 61</th>\n",
       "      <th>Age_group_61 - 71</th>\n",
       "      <th>Age_group_71 - 81</th>\n",
       "    </tr>\n",
       "  </thead>\n",
       "  <tbody>\n",
       "    <tr>\n",
       "      <th>0</th>\n",
       "      <td>0.098186</td>\n",
       "      <td>0</td>\n",
       "      <td>1</td>\n",
       "      <td>0</td>\n",
       "      <td>1</td>\n",
       "      <td>0</td>\n",
       "      <td>0</td>\n",
       "      <td>0</td>\n",
       "      <td>0</td>\n",
       "      <td>0</td>\n",
       "      <td>0</td>\n",
       "      <td>1</td>\n",
       "      <td>0</td>\n",
       "      <td>0</td>\n",
       "      <td>1</td>\n",
       "      <td>0</td>\n",
       "      <td>0</td>\n",
       "    </tr>\n",
       "    <tr>\n",
       "      <th>1</th>\n",
       "      <td>-0.237862</td>\n",
       "      <td>0</td>\n",
       "      <td>1</td>\n",
       "      <td>0</td>\n",
       "      <td>1</td>\n",
       "      <td>0</td>\n",
       "      <td>0</td>\n",
       "      <td>0</td>\n",
       "      <td>1</td>\n",
       "      <td>0</td>\n",
       "      <td>0</td>\n",
       "      <td>1</td>\n",
       "      <td>1</td>\n",
       "      <td>0</td>\n",
       "      <td>0</td>\n",
       "      <td>0</td>\n",
       "      <td>0</td>\n",
       "    </tr>\n",
       "    <tr>\n",
       "      <th>2</th>\n",
       "      <td>-1.378687</td>\n",
       "      <td>0</td>\n",
       "      <td>1</td>\n",
       "      <td>0</td>\n",
       "      <td>0</td>\n",
       "      <td>0</td>\n",
       "      <td>1</td>\n",
       "      <td>0</td>\n",
       "      <td>0</td>\n",
       "      <td>0</td>\n",
       "      <td>1</td>\n",
       "      <td>0</td>\n",
       "      <td>1</td>\n",
       "      <td>0</td>\n",
       "      <td>0</td>\n",
       "      <td>0</td>\n",
       "      <td>0</td>\n",
       "    </tr>\n",
       "    <tr>\n",
       "      <th>3</th>\n",
       "      <td>0.477823</td>\n",
       "      <td>1</td>\n",
       "      <td>1</td>\n",
       "      <td>0</td>\n",
       "      <td>1</td>\n",
       "      <td>0</td>\n",
       "      <td>0</td>\n",
       "      <td>0</td>\n",
       "      <td>1</td>\n",
       "      <td>0</td>\n",
       "      <td>0</td>\n",
       "      <td>0</td>\n",
       "      <td>0</td>\n",
       "      <td>0</td>\n",
       "      <td>1</td>\n",
       "      <td>0</td>\n",
       "      <td>0</td>\n",
       "    </tr>\n",
       "    <tr>\n",
       "      <th>4</th>\n",
       "      <td>-0.104208</td>\n",
       "      <td>0</td>\n",
       "      <td>0</td>\n",
       "      <td>0</td>\n",
       "      <td>0</td>\n",
       "      <td>1</td>\n",
       "      <td>0</td>\n",
       "      <td>0</td>\n",
       "      <td>0</td>\n",
       "      <td>0</td>\n",
       "      <td>0</td>\n",
       "      <td>1</td>\n",
       "      <td>1</td>\n",
       "      <td>0</td>\n",
       "      <td>0</td>\n",
       "      <td>0</td>\n",
       "      <td>0</td>\n",
       "    </tr>\n",
       "  </tbody>\n",
       "</table>\n",
       "</div>"
      ],
      "text/plain": [
       "    Balance  Gender_Male  Transaction_Status_1  Vintage_1  Vintage_2  \\\n",
       "0  0.098186            0                     1          0          1   \n",
       "1 -0.237862            0                     1          0          1   \n",
       "2 -1.378687            0                     1          0          0   \n",
       "3  0.477823            1                     1          0          1   \n",
       "4 -0.104208            0                     0          0          0   \n",
       "\n",
       "   Vintage_3  Vintage_4  Vintage_5  Product_Holdings_2  Product_Holdings_3+  \\\n",
       "0          0          0          0                   0                    0   \n",
       "1          0          0          0                   1                    0   \n",
       "2          0          1          0                   0                    0   \n",
       "3          0          0          0                   1                    0   \n",
       "4          1          0          0                   0                    0   \n",
       "\n",
       "   Credit_Category_Good  Credit_Category_Poor  Age_group_31 - 41  \\\n",
       "0                     0                     1                  0   \n",
       "1                     0                     1                  1   \n",
       "2                     1                     0                  1   \n",
       "3                     0                     0                  0   \n",
       "4                     0                     1                  1   \n",
       "\n",
       "   Age_group_41 - 51  Age_group_51 - 61  Age_group_61 - 71  Age_group_71 - 81  \n",
       "0                  0                  1                  0                  0  \n",
       "1                  0                  0                  0                  0  \n",
       "2                  0                  0                  0                  0  \n",
       "3                  0                  1                  0                  0  \n",
       "4                  0                  0                  0                  0  "
      ]
     },
     "execution_count": 176,
     "metadata": {},
     "output_type": "execute_result"
    }
   ],
   "source": [
    "X.head()"
   ]
  },
  {
   "cell_type": "code",
   "execution_count": 177,
   "metadata": {},
   "outputs": [
    {
     "data": {
      "text/plain": [
       "<AxesSubplot:xlabel='Balance', ylabel='Density'>"
      ]
     },
     "execution_count": 177,
     "metadata": {},
     "output_type": "execute_result"
    },
    {
     "data": {
      "image/png": "[encoded data removed]",
      "text/plain": [
       "<Figure size 432x288 with 1 Axes>"
      ]
     },
     "metadata": {
      "needs_background": "light"
     },
     "output_type": "display_data"
    }
   ],
   "source": [
    "#plotting the balance variable\n",
    "sns.kdeplot(X['Balance'])"
   ]
  },
  {
   "cell_type": "markdown",
   "metadata": {},
   "source": [
    "### splitting the model"
   ]
  },
  {
   "cell_type": "code",
   "execution_count": 122,
   "metadata": {},
   "outputs": [],
   "source": [
    "from sklearn.model_selection import train_test_split\n",
    "\n",
    "x_train_new, x_test_new, y_train_new, y_test_new = train_test_split(X,y,test_size=0.2,random_state=21)"
   ]
  },
  {
   "cell_type": "code",
   "execution_count": 123,
   "metadata": {},
   "outputs": [
    {
     "name": "stdout",
     "output_type": "stream",
     "text": [
      "(8180, 17) (8180,)\n"
     ]
    }
   ],
   "source": [
    "print(x_train_new.shape,y_train_new.shape)"
   ]
  },
  {
   "cell_type": "code",
   "execution_count": 124,
   "metadata": {},
   "outputs": [
    {
     "name": "stdout",
     "output_type": "stream",
     "text": [
      "(2046, 17) (2046,)\n"
     ]
    }
   ],
   "source": [
    "print(x_test_new.shape,y_test_new.shape)"
   ]
  },
  {
   "cell_type": "code",
   "execution_count": null,
   "metadata": {},
   "outputs": [],
   "source": []
  },
  {
   "cell_type": "markdown",
   "metadata": {},
   "source": [
    "## RidgeClassifier"
   ]
  },
  {
   "cell_type": "code",
   "execution_count": 126,
   "metadata": {},
   "outputs": [
    {
     "name": "stdout",
     "output_type": "stream",
     "text": [
      "testing classification report:\n",
      "               precision    recall  f1-score   support\n",
      "\n",
      "           0       0.59      0.58      0.59      1016\n",
      "           1       0.60      0.61      0.60      1030\n",
      "\n",
      "    accuracy                           0.60      2046\n",
      "   macro avg       0.60      0.60      0.60      2046\n",
      "weighted avg       0.60      0.60      0.60      2046\n",
      "\n",
      "training classification report:\n",
      "               precision    recall  f1-score   support\n",
      "\n",
      "           0       0.61      0.61      0.61      4097\n",
      "           1       0.61      0.61      0.61      4083\n",
      "\n",
      "    accuracy                           0.61      8180\n",
      "   macro avg       0.61      0.61      0.61      8180\n",
      "weighted avg       0.61      0.61      0.61      8180\n",
      "\n"
     ]
    }
   ],
   "source": [
    "#from training data only\n",
    "clf_ridge = RidgeClassifier()\n",
    "clf_ridge.fit(x_train_new,y_train_new)\n",
    "\n",
    "test_predict = clf_ridge.predict(x_test_new)\n",
    "train_predict = clf_ridge.predict(x_train_new)\n",
    "print(\"testing classification report:\\n\",classification_report(y_test_new,test_predict))\n",
    "print(\"training classification report:\\n\",classification_report(y_train_new,train_predict))"
   ]
  },
  {
   "cell_type": "markdown",
   "metadata": {},
   "source": [
    "### tuning ridge classifier"
   ]
  },
  {
   "cell_type": "code",
   "execution_count": 131,
   "metadata": {},
   "outputs": [],
   "source": [
    "from sklearn.model_selection import RepeatedStratifiedKFold, GridSearchCV\n",
    "\n",
    "param_grid={'alpha':np.linspace(0.1,1.0,20)}\n",
    "cv = RepeatedStratifiedKFold(n_splits=10, n_repeats=3,random_state=1)\n",
    "grid_search = GridSearchCV(estimator=clf_ridge, param_grid=param_grid, cv=cv, n_jobs=1, scoring='f1')\n",
    "grid_result = grid_search.fit(x_train_new,y_train_new)\n",
    "# print(grid_result.)"
   ]
  },
  {
   "cell_type": "code",
   "execution_count": 132,
   "metadata": {},
   "outputs": [
    {
     "data": {
      "text/plain": [
       "{'alpha': 0.1}"
      ]
     },
     "execution_count": 132,
     "metadata": {},
     "output_type": "execute_result"
    }
   ],
   "source": [
    "grid_result.best_params_"
   ]
  },
  {
   "cell_type": "code",
   "execution_count": 133,
   "metadata": {},
   "outputs": [
    {
     "name": "stdout",
     "output_type": "stream",
     "text": [
      "testing classification report:\n",
      "               precision    recall  f1-score   support\n",
      "\n",
      "           0       0.59      0.58      0.59      1016\n",
      "           1       0.60      0.61      0.60      1030\n",
      "\n",
      "    accuracy                           0.60      2046\n",
      "   macro avg       0.60      0.60      0.60      2046\n",
      "weighted avg       0.60      0.60      0.60      2046\n",
      "\n",
      "training classification report:\n",
      "               precision    recall  f1-score   support\n",
      "\n",
      "           0       0.61      0.61      0.61      4097\n",
      "           1       0.61      0.61      0.61      4083\n",
      "\n",
      "    accuracy                           0.61      8180\n",
      "   macro avg       0.61      0.61      0.61      8180\n",
      "weighted avg       0.61      0.61      0.61      8180\n",
      "\n"
     ]
    }
   ],
   "source": [
    "#working with tuned params\n",
    "#from training data only\n",
    "clf_ridge = RidgeClassifier(alpha=0.1)\n",
    "clf_ridge.fit(x_train_new,y_train_new)\n",
    "\n",
    "test_predict = clf_ridge.predict(x_test_new)\n",
    "train_predict = clf_ridge.predict(x_train_new)\n",
    "print(\"testing classification report:\\n\",classification_report(y_test_new,test_predict))\n",
    "print(\"training classification report:\\n\",classification_report(y_train_new,train_predict))"
   ]
  },
  {
   "cell_type": "markdown",
   "metadata": {},
   "source": [
    "## RandomForestClassifier"
   ]
  },
  {
   "cell_type": "code",
   "execution_count": 135,
   "metadata": {},
   "outputs": [
    {
     "name": "stdout",
     "output_type": "stream",
     "text": [
      "testing score:\n",
      "               precision    recall  f1-score   support\n",
      "\n",
      "           0       0.94      0.79      0.86      1016\n",
      "           1       0.82      0.95      0.88      1030\n",
      "\n",
      "    accuracy                           0.87      2046\n",
      "   macro avg       0.88      0.87      0.87      2046\n",
      "weighted avg       0.88      0.87      0.87      2046\n",
      "\n",
      "training score:\n",
      "               precision    recall  f1-score   support\n",
      "\n",
      "           0       1.00      1.00      1.00      4097\n",
      "           1       1.00      1.00      1.00      4083\n",
      "\n",
      "    accuracy                           1.00      8180\n",
      "   macro avg       1.00      1.00      1.00      8180\n",
      "weighted avg       1.00      1.00      1.00      8180\n",
      "\n"
     ]
    }
   ],
   "source": [
    "#from training data created train and test\n",
    "from sklearn.ensemble import RandomForestClassifier\n",
    "\n",
    "rfc=RandomForestClassifier()\n",
    "rfc.fit(x_train_new,y_train_new)\n",
    "\n",
    "test_rfc_pred = rfc.predict(x_test_new)\n",
    "train_rfc_pred = rfc.predict(x_train_new)\n",
    "print(\"testing score:\\n\",classification_report(y_test_new,test_rfc_pred))\n",
    "print(\"training score:\\n\",classification_report(y_train_new,train_rfc_pred))"
   ]
  },
  {
   "cell_type": "markdown",
   "metadata": {},
   "source": [
    "### GridSearchCV on RandomForest"
   ]
  },
  {
   "cell_type": "code",
   "execution_count": 143,
   "metadata": {},
   "outputs": [],
   "source": [
    "param_grid=[\n",
    "    {\n",
    "        'n_estimators':[100,120,150,180],\n",
    "        'max_features': [0.2,0.6,1.0],\n",
    "        'max_depth':[2,8,None],\n",
    "        'max_samples':[0.5,0.75,1.0]\n",
    "    }\n",
    "]"
   ]
  },
  {
   "cell_type": "code",
   "execution_count": 144,
   "metadata": {},
   "outputs": [],
   "source": [
    "from sklearn.ensemble import RandomForestClassifier\n",
    "rfc1=RandomForestClassifier()\n",
    "\n",
    "from sklearn.model_selection import GridSearchCV\n",
    "clf = GridSearchCV(rfc1, param_grid=param_grid, cv=3, verbose=True, n_jobs=-1,scoring='f1')"
   ]
  },
  {
   "cell_type": "code",
   "execution_count": 145,
   "metadata": {},
   "outputs": [
    {
     "name": "stdout",
     "output_type": "stream",
     "text": [
      "Fitting 3 folds for each of 108 candidates, totalling 324 fits\n"
     ]
    },
    {
     "name": "stderr",
     "output_type": "stream",
     "text": [
      "[Parallel(n_jobs=-1)]: Using backend LokyBackend with 4 concurrent workers.\n",
      "[Parallel(n_jobs=-1)]: Done  42 tasks      | elapsed:    9.1s\n",
      "[Parallel(n_jobs=-1)]: Done 192 tasks      | elapsed:   52.7s\n",
      "[Parallel(n_jobs=-1)]: Done 324 out of 324 | elapsed:  2.0min finished\n"
     ]
    }
   ],
   "source": [
    "best_clf = clf.fit(x_train_new,y_train_new)"
   ]
  },
  {
   "cell_type": "code",
   "execution_count": 146,
   "metadata": {},
   "outputs": [
    {
     "data": {
      "text/plain": [
       "{'max_depth': None,\n",
       " 'max_features': 0.6,\n",
       " 'max_samples': 0.75,\n",
       " 'n_estimators': 180}"
      ]
     },
     "execution_count": 146,
     "metadata": {},
     "output_type": "execute_result"
    }
   ],
   "source": [
    "best_clf.best_estimator_\n",
    "best_clf.best_params_"
   ]
  },
  {
   "cell_type": "code",
   "execution_count": 147,
   "metadata": {},
   "outputs": [
    {
     "name": "stdout",
     "output_type": "stream",
     "text": [
      "Fitting 3 folds for each of 108 candidates, totalling 324 fits\n"
     ]
    },
    {
     "name": "stderr",
     "output_type": "stream",
     "text": [
      "[Parallel(n_jobs=-1)]: Using backend LokyBackend with 4 concurrent workers.\n",
      "[Parallel(n_jobs=-1)]: Done  42 tasks      | elapsed:    9.5s\n",
      "[Parallel(n_jobs=-1)]: Done 192 tasks      | elapsed:   57.9s\n",
      "[Parallel(n_jobs=-1)]: Done 324 out of 324 | elapsed:  2.2min finished\n"
     ]
    }
   ],
   "source": [
    "best_clf = clf.fit(X,y)"
   ]
  },
  {
   "cell_type": "code",
   "execution_count": 148,
   "metadata": {},
   "outputs": [
    {
     "data": {
      "text/plain": [
       "{'max_depth': None,\n",
       " 'max_features': 0.6,\n",
       " 'max_samples': 0.75,\n",
       " 'n_estimators': 100}"
      ]
     },
     "execution_count": 148,
     "metadata": {},
     "output_type": "execute_result"
    }
   ],
   "source": [
    "best_clf.best_estimator_\n",
    "best_clf.best_params_"
   ]
  },
  {
   "cell_type": "code",
   "execution_count": 151,
   "metadata": {},
   "outputs": [
    {
     "name": "stdout",
     "output_type": "stream",
     "text": [
      "testing score:\n",
      "               precision    recall  f1-score   support\n",
      "\n",
      "           0       0.94      0.79      0.86      1016\n",
      "           1       0.82      0.95      0.88      1030\n",
      "\n",
      "    accuracy                           0.87      2046\n",
      "   macro avg       0.88      0.87      0.87      2046\n",
      "weighted avg       0.88      0.87      0.87      2046\n",
      "\n",
      "training score:\n",
      "               precision    recall  f1-score   support\n",
      "\n",
      "           0       1.00      1.00      1.00      4097\n",
      "           1       1.00      1.00      1.00      4083\n",
      "\n",
      "    accuracy                           1.00      8180\n",
      "   macro avg       1.00      1.00      1.00      8180\n",
      "weighted avg       1.00      1.00      1.00      8180\n",
      "\n"
     ]
    }
   ],
   "source": [
    "#from splitted data\n",
    "rfc1=RandomForestClassifier(max_features=0.6,max_samples=0.75,n_estimators=100)\n",
    "rfc1.fit(x_train_new,y_train_new)\n",
    "\n",
    "rfc_train_pred=rfc1.predict(x_train_new)\n",
    "rfc_pred_whole = rfc1.predict(x_test_new)\n",
    "print(\"testing score:\\n\",classification_report(y_test_new,rfc_pred_whole))\n",
    "print(\"training score:\\n\",classification_report(y_train_new,rfc_train_pred))"
   ]
  },
  {
   "cell_type": "code",
   "execution_count": 195,
   "metadata": {},
   "outputs": [
    {
     "name": "stdout",
     "output_type": "stream",
     "text": [
      "training score:\n",
      "               precision    recall  f1-score   support\n",
      "\n",
      "           0       1.00      1.00      1.00      5113\n",
      "           1       1.00      1.00      1.00      5113\n",
      "\n",
      "    accuracy                           1.00     10226\n",
      "   macro avg       1.00      1.00      1.00     10226\n",
      "weighted avg       1.00      1.00      1.00     10226\n",
      "\n"
     ]
    }
   ],
   "source": [
    "#from whole training data only\n",
    "rfc1=RandomForestClassifier(max_features=0.6,max_samples=0.75,n_estimators=100)\n",
    "rfc1.fit(X,y)\n",
    "\n",
    "rfc_pred = rfc1.predict(X)\n",
    "print(\"training score:\\n\",classification_report(y,rfc_pred))"
   ]
  },
  {
   "cell_type": "code",
   "execution_count": 153,
   "metadata": {},
   "outputs": [
    {
     "name": "stdout",
     "output_type": "stream",
     "text": [
      "[[5098   15]\n",
      " [  12 5101]]\n"
     ]
    }
   ],
   "source": [
    "from sklearn.metrics import confusion_matrix\n",
    "print(confusion_matrix(y,rfc_pred))"
   ]
  },
  {
   "cell_type": "markdown",
   "metadata": {},
   "source": [
    "### Loading test data"
   ]
  },
  {
   "cell_type": "code",
   "execution_count": 154,
   "metadata": {},
   "outputs": [],
   "source": [
    "test_data=pd.read_csv(\"test_lTY72QC.csv\")"
   ]
  },
  {
   "cell_type": "code",
   "execution_count": 155,
   "metadata": {},
   "outputs": [
    {
     "data": {
      "text/html": [
       "<div>\n",
       "<style scoped>\n",
       "    .dataframe tbody tr th:only-of-type {\n",
       "        vertical-align: middle;\n",
       "    }\n",
       "\n",
       "    .dataframe tbody tr th {\n",
       "        vertical-align: top;\n",
       "    }\n",
       "\n",
       "    .dataframe thead th {\n",
       "        text-align: right;\n",
       "    }\n",
       "</style>\n",
       "<table border=\"1\" class=\"dataframe\">\n",
       "  <thead>\n",
       "    <tr style=\"text-align: right;\">\n",
       "      <th></th>\n",
       "      <th>ID</th>\n",
       "      <th>Age</th>\n",
       "      <th>Gender</th>\n",
       "      <th>Income</th>\n",
       "      <th>Balance</th>\n",
       "      <th>Vintage</th>\n",
       "      <th>Transaction_Status</th>\n",
       "      <th>Product_Holdings</th>\n",
       "      <th>Credit_Card</th>\n",
       "      <th>Credit_Category</th>\n",
       "    </tr>\n",
       "  </thead>\n",
       "  <tbody>\n",
       "    <tr>\n",
       "      <th>0</th>\n",
       "      <td>55480787</td>\n",
       "      <td>50</td>\n",
       "      <td>Female</td>\n",
       "      <td>More than 15L</td>\n",
       "      <td>1008636.39</td>\n",
       "      <td>2</td>\n",
       "      <td>1</td>\n",
       "      <td>2</td>\n",
       "      <td>1</td>\n",
       "      <td>Average</td>\n",
       "    </tr>\n",
       "    <tr>\n",
       "      <th>1</th>\n",
       "      <td>9aededf2</td>\n",
       "      <td>36</td>\n",
       "      <td>Male</td>\n",
       "      <td>5L - 10L</td>\n",
       "      <td>341460.72</td>\n",
       "      <td>2</td>\n",
       "      <td>0</td>\n",
       "      <td>2</td>\n",
       "      <td>1</td>\n",
       "      <td>Average</td>\n",
       "    </tr>\n",
       "    <tr>\n",
       "      <th>2</th>\n",
       "      <td>a5034a09</td>\n",
       "      <td>25</td>\n",
       "      <td>Female</td>\n",
       "      <td>10L - 15L</td>\n",
       "      <td>439460.10</td>\n",
       "      <td>0</td>\n",
       "      <td>0</td>\n",
       "      <td>2</td>\n",
       "      <td>1</td>\n",
       "      <td>Good</td>\n",
       "    </tr>\n",
       "    <tr>\n",
       "      <th>3</th>\n",
       "      <td>b3256702</td>\n",
       "      <td>41</td>\n",
       "      <td>Male</td>\n",
       "      <td>Less than 5L</td>\n",
       "      <td>28581.93</td>\n",
       "      <td>0</td>\n",
       "      <td>1</td>\n",
       "      <td>2</td>\n",
       "      <td>1</td>\n",
       "      <td>Poor</td>\n",
       "    </tr>\n",
       "    <tr>\n",
       "      <th>4</th>\n",
       "      <td>dc28adb5</td>\n",
       "      <td>48</td>\n",
       "      <td>Male</td>\n",
       "      <td>More than 15L</td>\n",
       "      <td>1104540.03</td>\n",
       "      <td>2</td>\n",
       "      <td>1</td>\n",
       "      <td>3+</td>\n",
       "      <td>0</td>\n",
       "      <td>Good</td>\n",
       "    </tr>\n",
       "  </tbody>\n",
       "</table>\n",
       "</div>"
      ],
      "text/plain": [
       "         ID  Age  Gender         Income     Balance  Vintage  \\\n",
       "0  55480787   50  Female  More than 15L  1008636.39        2   \n",
       "1  9aededf2   36    Male       5L - 10L   341460.72        2   \n",
       "2  a5034a09   25  Female      10L - 15L   439460.10        0   \n",
       "3  b3256702   41    Male   Less than 5L    28581.93        0   \n",
       "4  dc28adb5   48    Male  More than 15L  1104540.03        2   \n",
       "\n",
       "   Transaction_Status Product_Holdings  Credit_Card Credit_Category  \n",
       "0                   1                2            1         Average  \n",
       "1                   0                2            1         Average  \n",
       "2                   0                2            1            Good  \n",
       "3                   1                2            1            Poor  \n",
       "4                   1               3+            0            Good  "
      ]
     },
     "execution_count": 155,
     "metadata": {},
     "output_type": "execute_result"
    }
   ],
   "source": [
    "test_data.head()"
   ]
  },
  {
   "cell_type": "code",
   "execution_count": 156,
   "metadata": {},
   "outputs": [
    {
     "name": "stdout",
     "output_type": "stream",
     "text": [
      "['21 - 31', '31 - 41', '41 - 51', '51 - 61', '61 - 71', '71 - 81']\n"
     ]
    }
   ],
   "source": [
    "# Group the tenure in bins of 12 months\n",
    "labels = [\"{0} - {1}\".format(i, i + 10) for i in range(21, 72, 10)]\n",
    "print(labels)\n",
    "\n",
    "#cut function create group or segment the data on bins\n",
    "test_data['Age_group'] = pd.cut(test_data.Age, range(21, 90, 10), right=False, labels=labels)"
   ]
  },
  {
   "cell_type": "code",
   "execution_count": 157,
   "metadata": {},
   "outputs": [
    {
     "data": {
      "text/html": [
       "<div>\n",
       "<style scoped>\n",
       "    .dataframe tbody tr th:only-of-type {\n",
       "        vertical-align: middle;\n",
       "    }\n",
       "\n",
       "    .dataframe tbody tr th {\n",
       "        vertical-align: top;\n",
       "    }\n",
       "\n",
       "    .dataframe thead th {\n",
       "        text-align: right;\n",
       "    }\n",
       "</style>\n",
       "<table border=\"1\" class=\"dataframe\">\n",
       "  <thead>\n",
       "    <tr style=\"text-align: right;\">\n",
       "      <th></th>\n",
       "      <th>Gender</th>\n",
       "      <th>Balance</th>\n",
       "      <th>Vintage</th>\n",
       "      <th>Transaction_Status</th>\n",
       "      <th>Product_Holdings</th>\n",
       "      <th>Credit_Category</th>\n",
       "      <th>Age_group</th>\n",
       "    </tr>\n",
       "  </thead>\n",
       "  <tbody>\n",
       "    <tr>\n",
       "      <th>0</th>\n",
       "      <td>Female</td>\n",
       "      <td>1008636.39</td>\n",
       "      <td>2</td>\n",
       "      <td>1</td>\n",
       "      <td>2</td>\n",
       "      <td>Average</td>\n",
       "      <td>41 - 51</td>\n",
       "    </tr>\n",
       "    <tr>\n",
       "      <th>1</th>\n",
       "      <td>Male</td>\n",
       "      <td>341460.72</td>\n",
       "      <td>2</td>\n",
       "      <td>0</td>\n",
       "      <td>2</td>\n",
       "      <td>Average</td>\n",
       "      <td>31 - 41</td>\n",
       "    </tr>\n",
       "    <tr>\n",
       "      <th>2</th>\n",
       "      <td>Female</td>\n",
       "      <td>439460.10</td>\n",
       "      <td>0</td>\n",
       "      <td>0</td>\n",
       "      <td>2</td>\n",
       "      <td>Good</td>\n",
       "      <td>21 - 31</td>\n",
       "    </tr>\n",
       "    <tr>\n",
       "      <th>3</th>\n",
       "      <td>Male</td>\n",
       "      <td>28581.93</td>\n",
       "      <td>0</td>\n",
       "      <td>1</td>\n",
       "      <td>2</td>\n",
       "      <td>Poor</td>\n",
       "      <td>41 - 51</td>\n",
       "    </tr>\n",
       "    <tr>\n",
       "      <th>4</th>\n",
       "      <td>Male</td>\n",
       "      <td>1104540.03</td>\n",
       "      <td>2</td>\n",
       "      <td>1</td>\n",
       "      <td>3+</td>\n",
       "      <td>Good</td>\n",
       "      <td>41 - 51</td>\n",
       "    </tr>\n",
       "  </tbody>\n",
       "</table>\n",
       "</div>"
      ],
      "text/plain": [
       "   Gender     Balance  Vintage  Transaction_Status Product_Holdings  \\\n",
       "0  Female  1008636.39        2                   1                2   \n",
       "1    Male   341460.72        2                   0                2   \n",
       "2  Female   439460.10        0                   0                2   \n",
       "3    Male    28581.93        0                   1                2   \n",
       "4    Male  1104540.03        2                   1               3+   \n",
       "\n",
       "  Credit_Category Age_group  \n",
       "0         Average   41 - 51  \n",
       "1         Average   31 - 41  \n",
       "2            Good   21 - 31  \n",
       "3            Poor   41 - 51  \n",
       "4            Good   41 - 51  "
      ]
     },
     "execution_count": 157,
     "metadata": {},
     "output_type": "execute_result"
    }
   ],
   "source": [
    "#let's drop all the exclude variables\n",
    "test=test_data.drop(['ID','Age','Income','Credit_Card'],axis=1)\n",
    "test.head()"
   ]
  },
  {
   "cell_type": "code",
   "execution_count": 158,
   "metadata": {},
   "outputs": [],
   "source": [
    "cat_features = ['Gender','Transaction_Status','Vintage','Product_Holdings','Credit_Category','Age_group']\n",
    "test=pd.get_dummies(test,columns=cat_features,drop_first=True)"
   ]
  },
  {
   "cell_type": "code",
   "execution_count": 159,
   "metadata": {},
   "outputs": [
    {
     "data": {
      "text/plain": [
       "(2851, 17)"
      ]
     },
     "execution_count": 159,
     "metadata": {},
     "output_type": "execute_result"
    }
   ],
   "source": [
    "test.shape"
   ]
  },
  {
   "cell_type": "code",
   "execution_count": 164,
   "metadata": {},
   "outputs": [
    {
     "data": {
      "text/plain": [
       "(10226, 17)"
      ]
     },
     "execution_count": 164,
     "metadata": {},
     "output_type": "execute_result"
    }
   ],
   "source": [
    "X.shape"
   ]
  },
  {
   "cell_type": "code",
   "execution_count": 165,
   "metadata": {},
   "outputs": [
    {
     "data": {
      "text/plain": [
       "Index(['Balance', 'Gender_Male', 'Transaction_Status_1', 'Vintage_1',\n",
       "       'Vintage_2', 'Vintage_3', 'Vintage_4', 'Vintage_5',\n",
       "       'Product_Holdings_2', 'Product_Holdings_3+', 'Credit_Category_Good',\n",
       "       'Credit_Category_Poor', 'Age_group_31 - 41', 'Age_group_41 - 51',\n",
       "       'Age_group_51 - 61', 'Age_group_61 - 71', 'Age_group_71 - 81'],\n",
       "      dtype='object')"
      ]
     },
     "execution_count": 165,
     "metadata": {},
     "output_type": "execute_result"
    }
   ],
   "source": [
    "test.columns"
   ]
  },
  {
   "cell_type": "code",
   "execution_count": 166,
   "metadata": {},
   "outputs": [
    {
     "data": {
      "text/plain": [
       "Index(['Balance', 'Gender_Male', 'Transaction_Status_1', 'Vintage_1',\n",
       "       'Vintage_2', 'Vintage_3', 'Vintage_4', 'Vintage_5',\n",
       "       'Product_Holdings_2', 'Product_Holdings_3+', 'Credit_Category_Good',\n",
       "       'Credit_Category_Poor', 'Age_group_31 - 41', 'Age_group_41 - 51',\n",
       "       'Age_group_51 - 61', 'Age_group_61 - 71', 'Age_group_71 - 81'],\n",
       "      dtype='object')"
      ]
     },
     "execution_count": 166,
     "metadata": {},
     "output_type": "execute_result"
    }
   ],
   "source": [
    "X.columns"
   ]
  },
  {
   "cell_type": "code",
   "execution_count": 184,
   "metadata": {},
   "outputs": [],
   "source": [
    "#creating the scaler\n",
    "mean = np.mean(test['Balance'])\n",
    "std = np.std(test['Balance'])\n",
    "def scaling_test(x):\n",
    "    scaled = (x-mean)/std\n",
    "    return scaled"
   ]
  },
  {
   "cell_type": "code",
   "execution_count": 188,
   "metadata": {},
   "outputs": [],
   "source": [
    "test['Balance']=test['Balance'].apply(scaling_test, lambda x: x)"
   ]
  },
  {
   "cell_type": "code",
   "execution_count": 190,
   "metadata": {},
   "outputs": [],
   "source": [
    "test.drop('new_balance',axis=1,inplace=True)"
   ]
  },
  {
   "cell_type": "code",
   "execution_count": 191,
   "metadata": {},
   "outputs": [
    {
     "data": {
      "text/html": [
       "<div>\n",
       "<style scoped>\n",
       "    .dataframe tbody tr th:only-of-type {\n",
       "        vertical-align: middle;\n",
       "    }\n",
       "\n",
       "    .dataframe tbody tr th {\n",
       "        vertical-align: top;\n",
       "    }\n",
       "\n",
       "    .dataframe thead th {\n",
       "        text-align: right;\n",
       "    }\n",
       "</style>\n",
       "<table border=\"1\" class=\"dataframe\">\n",
       "  <thead>\n",
       "    <tr style=\"text-align: right;\">\n",
       "      <th></th>\n",
       "      <th>Balance</th>\n",
       "      <th>Gender_Male</th>\n",
       "      <th>Transaction_Status_1</th>\n",
       "      <th>Vintage_1</th>\n",
       "      <th>Vintage_2</th>\n",
       "      <th>Vintage_3</th>\n",
       "      <th>Vintage_4</th>\n",
       "      <th>Vintage_5</th>\n",
       "      <th>Product_Holdings_2</th>\n",
       "      <th>Product_Holdings_3+</th>\n",
       "      <th>Credit_Category_Good</th>\n",
       "      <th>Credit_Category_Poor</th>\n",
       "      <th>Age_group_31 - 41</th>\n",
       "      <th>Age_group_41 - 51</th>\n",
       "      <th>Age_group_51 - 61</th>\n",
       "      <th>Age_group_61 - 71</th>\n",
       "      <th>Age_group_71 - 81</th>\n",
       "    </tr>\n",
       "  </thead>\n",
       "  <tbody>\n",
       "    <tr>\n",
       "      <th>0</th>\n",
       "      <td>0.378469</td>\n",
       "      <td>0</td>\n",
       "      <td>1</td>\n",
       "      <td>0</td>\n",
       "      <td>1</td>\n",
       "      <td>0</td>\n",
       "      <td>0</td>\n",
       "      <td>0</td>\n",
       "      <td>1</td>\n",
       "      <td>0</td>\n",
       "      <td>0</td>\n",
       "      <td>0</td>\n",
       "      <td>0</td>\n",
       "      <td>1</td>\n",
       "      <td>0</td>\n",
       "      <td>0</td>\n",
       "      <td>0</td>\n",
       "    </tr>\n",
       "    <tr>\n",
       "      <th>1</th>\n",
       "      <td>-0.892080</td>\n",
       "      <td>1</td>\n",
       "      <td>0</td>\n",
       "      <td>0</td>\n",
       "      <td>1</td>\n",
       "      <td>0</td>\n",
       "      <td>0</td>\n",
       "      <td>0</td>\n",
       "      <td>1</td>\n",
       "      <td>0</td>\n",
       "      <td>0</td>\n",
       "      <td>0</td>\n",
       "      <td>1</td>\n",
       "      <td>0</td>\n",
       "      <td>0</td>\n",
       "      <td>0</td>\n",
       "      <td>0</td>\n",
       "    </tr>\n",
       "    <tr>\n",
       "      <th>2</th>\n",
       "      <td>-0.705453</td>\n",
       "      <td>0</td>\n",
       "      <td>0</td>\n",
       "      <td>0</td>\n",
       "      <td>0</td>\n",
       "      <td>0</td>\n",
       "      <td>0</td>\n",
       "      <td>0</td>\n",
       "      <td>1</td>\n",
       "      <td>0</td>\n",
       "      <td>1</td>\n",
       "      <td>0</td>\n",
       "      <td>0</td>\n",
       "      <td>0</td>\n",
       "      <td>0</td>\n",
       "      <td>0</td>\n",
       "      <td>0</td>\n",
       "    </tr>\n",
       "    <tr>\n",
       "      <th>3</th>\n",
       "      <td>-1.487916</td>\n",
       "      <td>1</td>\n",
       "      <td>1</td>\n",
       "      <td>0</td>\n",
       "      <td>0</td>\n",
       "      <td>0</td>\n",
       "      <td>0</td>\n",
       "      <td>0</td>\n",
       "      <td>1</td>\n",
       "      <td>0</td>\n",
       "      <td>0</td>\n",
       "      <td>1</td>\n",
       "      <td>0</td>\n",
       "      <td>1</td>\n",
       "      <td>0</td>\n",
       "      <td>0</td>\n",
       "      <td>0</td>\n",
       "    </tr>\n",
       "    <tr>\n",
       "      <th>4</th>\n",
       "      <td>0.561105</td>\n",
       "      <td>1</td>\n",
       "      <td>1</td>\n",
       "      <td>0</td>\n",
       "      <td>1</td>\n",
       "      <td>0</td>\n",
       "      <td>0</td>\n",
       "      <td>0</td>\n",
       "      <td>0</td>\n",
       "      <td>1</td>\n",
       "      <td>1</td>\n",
       "      <td>0</td>\n",
       "      <td>0</td>\n",
       "      <td>1</td>\n",
       "      <td>0</td>\n",
       "      <td>0</td>\n",
       "      <td>0</td>\n",
       "    </tr>\n",
       "  </tbody>\n",
       "</table>\n",
       "</div>"
      ],
      "text/plain": [
       "    Balance  Gender_Male  Transaction_Status_1  Vintage_1  Vintage_2  \\\n",
       "0  0.378469            0                     1          0          1   \n",
       "1 -0.892080            1                     0          0          1   \n",
       "2 -0.705453            0                     0          0          0   \n",
       "3 -1.487916            1                     1          0          0   \n",
       "4  0.561105            1                     1          0          1   \n",
       "\n",
       "   Vintage_3  Vintage_4  Vintage_5  Product_Holdings_2  Product_Holdings_3+  \\\n",
       "0          0          0          0                   1                    0   \n",
       "1          0          0          0                   1                    0   \n",
       "2          0          0          0                   1                    0   \n",
       "3          0          0          0                   1                    0   \n",
       "4          0          0          0                   0                    1   \n",
       "\n",
       "   Credit_Category_Good  Credit_Category_Poor  Age_group_31 - 41  \\\n",
       "0                     0                     0                  0   \n",
       "1                     0                     0                  1   \n",
       "2                     1                     0                  0   \n",
       "3                     0                     1                  0   \n",
       "4                     1                     0                  0   \n",
       "\n",
       "   Age_group_41 - 51  Age_group_51 - 61  Age_group_61 - 71  Age_group_71 - 81  \n",
       "0                  1                  0                  0                  0  \n",
       "1                  0                  0                  0                  0  \n",
       "2                  0                  0                  0                  0  \n",
       "3                  1                  0                  0                  0  \n",
       "4                  1                  0                  0                  0  "
      ]
     },
     "execution_count": 191,
     "metadata": {},
     "output_type": "execute_result"
    }
   ],
   "source": [
    "test.head()"
   ]
  },
  {
   "cell_type": "markdown",
   "metadata": {},
   "source": [
    "### Creating Final prediction"
   ]
  },
  {
   "cell_type": "markdown",
   "metadata": {},
   "source": [
    "### RandomForest"
   ]
  },
  {
   "cell_type": "code",
   "execution_count": 198,
   "metadata": {},
   "outputs": [],
   "source": [
    "rfc1.fit(X,y)\n",
    "rfc_pred = rfc1.predict(test)\n",
    "prediction=pd.DataFrame(np.c_[test_data['ID'],rfc_pred], columns=['ID','Is_Churn'])"
   ]
  },
  {
   "cell_type": "code",
   "execution_count": 199,
   "metadata": {},
   "outputs": [],
   "source": [
    "prediction.to_csv(\"churn_prediction_rfc.csv\",index=False)"
   ]
  },
  {
   "cell_type": "markdown",
   "metadata": {},
   "source": [
    "## RidgeClassifier"
   ]
  },
  {
   "cell_type": "code",
   "execution_count": 200,
   "metadata": {},
   "outputs": [],
   "source": [
    "clf_ridge = RidgeClassifier(alpha=0.1)\n",
    "clf_ridge.fit(X,y)\n",
    "\n",
    "predict = clf_ridge.predict(test)\n"
   ]
  },
  {
   "cell_type": "code",
   "execution_count": 201,
   "metadata": {},
   "outputs": [],
   "source": [
    "prediction1=pd.DataFrame(np.c_[test_data['ID'],predict], columns=['ID','Is_Churn'])"
   ]
  },
  {
   "cell_type": "code",
   "execution_count": 202,
   "metadata": {},
   "outputs": [],
   "source": [
    "prediction1.to_csv(\"churn_prediction_ridge.csv\",index=False)"
   ]
  },
  {
   "cell_type": "markdown",
   "metadata": {},
   "source": [
    "## Logistic Regression"
   ]
  },
  {
   "cell_type": "code",
   "execution_count": 203,
   "metadata": {},
   "outputs": [],
   "source": [
    "from sklearn.linear_model import LogisticRegression\n",
    "\n",
    "log_reg=LogisticRegression()\n",
    "log_reg.fit(X_train,y_train)\n",
    "\n",
    "log_pred = log_reg.predict(test)"
   ]
  },
  {
   "cell_type": "markdown",
   "metadata": {},
   "source": [
    "### GridSearchCV on logistic"
   ]
  },
  {
   "cell_type": "code",
   "execution_count": 204,
   "metadata": {},
   "outputs": [],
   "source": [
    "param_grid=[\n",
    "    {\n",
    "        'penalty':['l1','l2','elasticnet',None],\n",
    "        'C': np.logspace(-4,4,20),\n",
    "        'solver':['lbfgs','newton-cg','liblinear','sag','saga'],\n",
    "        'max_iter':[100,1000,2500,5000]\n",
    "    }\n",
    "]"
   ]
  },
  {
   "cell_type": "code",
   "execution_count": 205,
   "metadata": {},
   "outputs": [],
   "source": [
    "from sklearn.model_selection import GridSearchCV\n",
    "clf = GridSearchCV(log_reg, param_grid=param_grid, cv=3, verbose=True, n_jobs=-1)"
   ]
  },
  {
   "cell_type": "code",
   "execution_count": 208,
   "metadata": {},
   "outputs": [
    {
     "name": "stdout",
     "output_type": "stream",
     "text": [
      "Fitting 3 folds for each of 1600 candidates, totalling 4800 fits\n"
     ]
    },
    {
     "name": "stderr",
     "output_type": "stream",
     "text": [
      "[Parallel(n_jobs=-1)]: Using backend LokyBackend with 4 concurrent workers.\n",
      "[Parallel(n_jobs=-1)]: Done  42 tasks      | elapsed:    8.1s\n",
      "[Parallel(n_jobs=-1)]: Done 1148 tasks      | elapsed:   16.8s\n",
      "[Parallel(n_jobs=-1)]: Done 3148 tasks      | elapsed:   39.2s\n",
      "[Parallel(n_jobs=-1)]: Done 4800 out of 4800 | elapsed:  1.0min finished\n"
     ]
    }
   ],
   "source": [
    "best_clf = clf.fit(x_train_new,y_train_new)"
   ]
  },
  {
   "cell_type": "code",
   "execution_count": 209,
   "metadata": {},
   "outputs": [
    {
     "data": {
      "text/plain": [
       "LogisticRegression(C=0.23357214690901212, penalty='l1', solver='liblinear')"
      ]
     },
     "execution_count": 209,
     "metadata": {},
     "output_type": "execute_result"
    }
   ],
   "source": [
    "best_clf.best_estimator_"
   ]
  },
  {
   "cell_type": "code",
   "execution_count": 210,
   "metadata": {},
   "outputs": [
    {
     "name": "stdout",
     "output_type": "stream",
     "text": [
      "Fitting 3 folds for each of 1600 candidates, totalling 4800 fits\n"
     ]
    },
    {
     "name": "stderr",
     "output_type": "stream",
     "text": [
      "[Parallel(n_jobs=-1)]: Using backend LokyBackend with 4 concurrent workers.\n",
      "[Parallel(n_jobs=-1)]: Done 280 tasks      | elapsed:    2.4s\n",
      "[Parallel(n_jobs=-1)]: Done 2680 tasks      | elapsed:   29.8s\n",
      "[Parallel(n_jobs=-1)]: Done 4440 tasks      | elapsed:   58.5s\n",
      "[Parallel(n_jobs=-1)]: Done 4800 out of 4800 | elapsed:  1.1min finished\n"
     ]
    }
   ],
   "source": [
    "best_clf = clf.fit(X,y)"
   ]
  },
  {
   "cell_type": "code",
   "execution_count": 211,
   "metadata": {},
   "outputs": [
    {
     "data": {
      "text/plain": [
       "LogisticRegression(C=0.615848211066026, penalty='l1', solver='liblinear')"
      ]
     },
     "execution_count": 211,
     "metadata": {},
     "output_type": "execute_result"
    }
   ],
   "source": [
    "best_clf.best_estimator_"
   ]
  },
  {
   "cell_type": "code",
   "execution_count": null,
   "metadata": {},
   "outputs": [],
   "source": []
  },
  {
   "cell_type": "code",
   "execution_count": 212,
   "metadata": {},
   "outputs": [],
   "source": [
    "from sklearn.linear_model import LogisticRegression\n",
    "\n",
    "log_reg=LogisticRegression(C=0.615848211066026, penalty='l1', solver='liblinear')\n",
    "log_reg.fit(X_train,y_train)\n",
    "\n",
    "log_pred = log_reg.predict(test)\n",
    "# accuracy_score(y_train,rfc_pred)"
   ]
  },
  {
   "cell_type": "code",
   "execution_count": 213,
   "metadata": {},
   "outputs": [],
   "source": [
    "prediction2=pd.DataFrame(np.c_[test_data['ID'],log_pred], columns=['ID','Is_Churn'])"
   ]
  },
  {
   "cell_type": "code",
   "execution_count": 214,
   "metadata": {},
   "outputs": [],
   "source": [
    "prediction2.to_csv(\"churn_prediction_logistic_gridsearch.csv\",index=False)"
   ]
  },
  {
   "cell_type": "code",
   "execution_count": null,
   "metadata": {},
   "outputs": [],
   "source": []
  }
 ],
 "metadata": {
  "kernelspec": {
   "display_name": "Python 3",
   "language": "python",
   "name": "python3"
  },
  "language_info": {
   "codemirror_mode": {
    "name": "ipython",
    "version": 3
   },
   "file_extension": ".py",
   "mimetype": "text/x-python",
   "name": "python",
   "nbconvert_exporter": "python",
   "pygments_lexer": "ipython3",
   "version": "3.8.5"
  }
 },
 "nbformat": 4,
 "nbformat_minor": 4
}
